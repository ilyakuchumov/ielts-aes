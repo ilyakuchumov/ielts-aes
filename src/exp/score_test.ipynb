{
 "cells": [
  {
   "cell_type": "code",
   "execution_count": 1,
   "id": "initial_id",
   "metadata": {
    "ExecuteTime": {
     "end_time": "2024-11-08T21:07:16.258961Z",
     "start_time": "2024-11-08T21:07:15.431041Z"
    }
   },
   "outputs": [],
   "source": [
    "import sys\n",
    "sys.path.append(\"../\")\n",
    "\n",
    "from essay_scorer import EssayScorer"
   ]
  },
  {
   "cell_type": "code",
   "execution_count": 2,
   "id": "e2ace70f69f1402c",
   "metadata": {
    "ExecuteTime": {
     "end_time": "2024-11-08T21:07:18.303818Z",
     "start_time": "2024-11-08T21:07:16.919383Z"
    }
   },
   "outputs": [],
   "source": [
    "essay_scorer = EssayScorer.load('../../models/essay_scorer_train_results2/best_model')"
   ]
  },
  {
   "cell_type": "code",
   "execution_count": 3,
   "id": "fb7fcd07371c263f",
   "metadata": {
    "ExecuteTime": {
     "end_time": "2024-11-08T21:07:18.926131Z",
     "start_time": "2024-11-08T21:07:18.922904Z"
    }
   },
   "outputs": [],
   "source": [
    "task = 'Fresh water has always been a limited resource in some parts of the world. Today, however, growing worldwide demand has made this a global problem. What are the causes of the increased demand and what measure could governments and individuals take to respond to this problem?'"
   ]
  },
  {
   "cell_type": "code",
   "execution_count": 4,
   "id": "252d46078524d0d8",
   "metadata": {
    "ExecuteTime": {
     "end_time": "2024-11-08T21:07:19.197895Z",
     "start_time": "2024-11-08T21:07:19.193392Z"
    }
   },
   "outputs": [],
   "source": [
    "essay = '''Fresh water resource is a worldwide issue, that is related to varied factors, and it should be involve every country in the world. This essay will illustrate some reasons of the increasing demand and some solutions to solve as soon as possible.\n",
    "\n",
    "Nowadays, because of industrialization, many European country has resolved this problem because every citizen are able to get drinkable water, but there is a huge difference with the third countries. Although, European people do not miss water, limited water resource is becoming a global emergency that could affect every nation.\n",
    "\n",
    "Firstly, the rising request is related to the overpopulation; that is the reason why Chinese government has tried to reduce and regulate birth, so they have got the power to limit and control the population growth; this is not a reasonable political action to take.\n",
    "\n",
    "Secondly, the overpopulation has caused a growing demand of food, so further water has been used by farmer for agriculture; moreover, not all the farms have an appropriate and modern infrastructures and machines to give water to the soil, consequently a huge amount of this natural resource is wasted.\n",
    "\n",
    "A solution could be taken by local governments, such as, investments in new technologies, which are able to reuse water from soil, or more invested money on the creation of food in laboratories, in this last scenario a vast amount of water could be saved.\n",
    "\n",
    "In addition, global warming has affected significantly this issue, for this reason international cooperation should try to reduce the environment changing to preserve water, avoiding deforestation and pollution, increasing renewable energy.\n",
    "I would suggest teaching and educating children and students to save water in everyday life, these lessons could help them to notice their usage in their private house.\n",
    "\n",
    "In conclusion, I think some solutions could be found to fix the problem; however, we should work all together to make the difference.'''"
   ]
  },
  {
   "cell_type": "code",
   "execution_count": 5,
   "id": "bf6e573074fe97df",
   "metadata": {
    "ExecuteTime": {
     "end_time": "2024-11-09T01:07:15.988517Z",
     "start_time": "2024-11-09T01:07:15.981003Z"
    }
   },
   "outputs": [
    {
     "data": {
      "text/plain": [
       "tensor([5.2898], grad_fn=<SelectBackward0>)"
      ]
     },
     "execution_count": 5,
     "metadata": {},
     "output_type": "execute_result"
    }
   ],
   "source": [
    "# band 6\n",
    "essay_scorer.score(task, essay)"
   ]
  },
  {
   "cell_type": "code",
   "execution_count": 6,
   "id": "1536c4b6d9af40ea",
   "metadata": {
    "ExecuteTime": {
     "end_time": "2024-11-09T01:03:19.593378Z",
     "start_time": "2024-11-09T01:03:19.587555Z"
    }
   },
   "outputs": [],
   "source": [
    "task2 = '''\n",
    "Some people think that the increasing use of computers and mobile phones for communication has a negative effect on young people's reading and writing skills.\n",
    "\n",
    "To what extent do you agree or disagree?\n",
    "'''"
   ]
  },
  {
   "cell_type": "code",
   "execution_count": 7,
   "id": "51db69eae5d06f07",
   "metadata": {
    "ExecuteTime": {
     "end_time": "2024-11-09T01:03:31.058332Z",
     "start_time": "2024-11-09T01:03:31.055403Z"
    }
   },
   "outputs": [],
   "source": [
    "essay2 = '''\n",
    "Nowadays, our life improved by technology developments. Although some people think that communication through computers and mobile phones increased and has a detrimental effect on how young generation develop their skills in reading and writing, others think that this impact of technology is not a disadvantage. I strongly belive that young people reading and writing skills have suffered due to increasing usage of computers and mobile phones.\n",
    "\n",
    "To begin with, technology  increases day by day and we have to be aware of what is new and implement it on our everyday life. It is certainly known that communication through online platforms it is more easier than the usual one and currently it is vital to have at least one tool like mobile phone or computer if someone wants to have an online conversation with somebody else. A survey was conducted on young subjects in 2007, in the United Kingdom and almost 90% of their respondents agreed with the fact that communication using devices is easier and more effective than using traditional ways and they looked more willing to use a device, like a digital book rather than have similar reading like in the previous generations.\n",
    "\n",
    "To add more, there are many situations which provide that communication using only devices can be deficitary and it involves a lot of disadvantages. First and foremost, young generation can not experience the biggest pleasure of reading a new book, feeling the fragrance of their pages while sitting at the desk. Also, from the primary school, children learn how to effectively write and this situation needs improvement every day, because currently during the classes, many children get distracted and try to avoid what is vital for a society: to know how to correctly write. What is more, it has been proven that writing on a device decrease the rate of concentration in left emisphere of the brain and ought to this issue, many health problems can appear and develop. Nevertheless, technology development is an insurmontable situation that can not be stopped. During the years 2010-2020, a study was made using foreign students from my University and the results shown that those who used devices like mobile phones or computers in order to communicate had a lower rate of learning our mother tongue than others who concentrated on traditional books. Furthermore, a long period of time looking at blue screens affected the visual content and therefore most of them needed to see an Ophtalmologist.\n",
    "\n",
    "To conclude, it is evident that communication is the most striking feature in our everyday life and both traditional and digital paths can be used, but younger generation needs to be aware of the disadvantages of using most of the time only devices like computers and mobile phones, because the drawbacks can outweigh more than the positive effects.\n",
    "'''"
   ]
  },
  {
   "cell_type": "code",
   "execution_count": 9,
   "id": "3d80f65287d0a926",
   "metadata": {
    "ExecuteTime": {
     "end_time": "2024-11-09T01:07:24.037507Z",
     "start_time": "2024-11-09T01:07:24.032404Z"
    }
   },
   "outputs": [
    {
     "data": {
      "text/plain": [
       "tensor([5.7935], grad_fn=<SelectBackward0>)"
      ]
     },
     "execution_count": 9,
     "metadata": {},
     "output_type": "execute_result"
    }
   ],
   "source": [
    "# band 6\n",
    "essay_scorer.score(task2, essay2)"
   ]
  },
  {
   "cell_type": "code",
   "execution_count": 10,
   "id": "6324178351c165c8",
   "metadata": {
    "ExecuteTime": {
     "end_time": "2024-11-09T01:05:43.215976Z",
     "start_time": "2024-11-09T01:05:43.213419Z"
    }
   },
   "outputs": [],
   "source": [
    "task3 = '''\n",
    "Many people argue that museums and art galleries should present the nation’s art, as opposed to artworks from other countries. To what extent do you agree or disagree?\n",
    "'''"
   ]
  },
  {
   "cell_type": "code",
   "execution_count": 11,
   "id": "fb547fc82b69835d",
   "metadata": {
    "ExecuteTime": {
     "end_time": "2024-11-09T01:06:00.320451Z",
     "start_time": "2024-11-09T01:06:00.315615Z"
    }
   },
   "outputs": [],
   "source": [
    "essay3 = '''\n",
    "The cultural value of engaging with museums and art galleries is unquestionable; they exert a great deal of influence on our perception of the world. It is only reasonable to ponder whether or not these outlets of culture should concentrate their efforts on presenting the nation’s own art, and not that of other countries. In my opinion, there should be an attempt to strike a balance and put the objects of national art in the spotlight, while allowing the public to get acquainted with foreign artworks to a certain extent.\n",
    "\n",
    "If people were to only find sculptures and paintings by national artists in their local museums, that would have a number of positive effects, such as the fame the artists of that country would gain and the pride its citizens would feel for their fellow countrymen. It would promote patriotism and strengthen the image of the country in the eyes of its inhabitants. Local artists would also receive more financial assistance from the government as their works would generate a significant amount of interest, potentially resulting in further development of the local art. However, in order to evolve art needs fresh ideas, and without exposure to a wider range of creativity the world provides, the evolution of local arts may be hindered.\n",
    "\n",
    "People enjoy art because it appeals to their inner sense of beauty and triggers strong emotions, and whether the masterpiece that causes these feelings belongs to a local or foreign artist is irrelevant. Talent knows no geographical boundaries; therefore, the emphasis should be on how much joy or amazement the work of art brings, rather than on its origin. If that principle were to be followed, we would never have to choose between local and international art. Reducing our museums or galleries’ collections to local art works, in my view, would be harmful and go against the democratic nature of art.\n",
    "\n",
    "To sum up, it seems to me that a country has nothing to lose by allowing its people to admire art created elsewhere in the world. A conscious choice by the government to support local artists while hosting exhibitions from other countries could prove the most beneficial.\n",
    "'''"
   ]
  },
  {
   "cell_type": "code",
   "execution_count": 12,
   "id": "8638ee749428a89e",
   "metadata": {
    "ExecuteTime": {
     "end_time": "2024-11-09T01:07:31.837071Z",
     "start_time": "2024-11-09T01:07:31.829759Z"
    }
   },
   "outputs": [
    {
     "data": {
      "text/plain": [
       "tensor([8.2156], grad_fn=<SelectBackward0>)"
      ]
     },
     "execution_count": 12,
     "metadata": {},
     "output_type": "execute_result"
    }
   ],
   "source": [
    "# band 8 or band 8.5\n",
    "essay_scorer.score(task3, essay3)"
   ]
  },
  {
   "cell_type": "code",
   "execution_count": 16,
   "id": "30b8a2ac08239d5c",
   "metadata": {},
   "outputs": [],
   "source": [
    "import pandas as pd\n",
    "\n",
    "data_path = '../../data/scorer_data'\n",
    "scorer_train = pd.read_csv(f'{data_path}/iter0_chillies_gpt_eval_train.csv')\n",
    "scorer_test = pd.read_csv(f'{data_path}/iter0_chillies_gpt_eval_test.csv')"
   ]
  },
  {
   "cell_type": "code",
   "execution_count": 22,
   "id": "a7dc8780-9a1a-4fde-9b3a-b27f20968cb2",
   "metadata": {},
   "outputs": [],
   "source": [
    "def eval_scorer_data_set(df):\n",
    "    mse = 0\n",
    "    eq = 0\n",
    "    cnt = 0\n",
    "    for task, essay, band in zip(df['task'], df['essay'], df['band']):\n",
    "        predicted_score = float(essay_scorer.score(task, essay))\n",
    "        cnt += 1\n",
    "        mse += (band - predicted_score)**2\n",
    "        rounded_score = round(predicted_score * 2) / 2\n",
    "        eq += abs(band - rounded_score) < 1e-9\n",
    "\n",
    "    return {\n",
    "        'mean_mse': mse / cnt,\n",
    "        'accuracy': eq / cnt,\n",
    "    }"
   ]
  },
  {
   "cell_type": "code",
   "execution_count": 23,
   "id": "6fe2e344-1c12-4182-a7be-a325d626ebb3",
   "metadata": {},
   "outputs": [
    {
     "data": {
      "text/plain": [
       "{'mean_mse': 0.006305102353169553, 'accuracy': 0.9917615947925142}"
      ]
     },
     "execution_count": 23,
     "metadata": {},
     "output_type": "execute_result"
    }
   ],
   "source": [
    "eval_scorer_data_set(scorer_train)"
   ]
  },
  {
   "cell_type": "code",
   "execution_count": 24,
   "id": "c896e31b-9948-48de-b0d5-71d2ee25f3da",
   "metadata": {},
   "outputs": [
    {
     "data": {
      "text/plain": [
       "{'mean_mse': 0.012301773146201187, 'accuracy': 0.9938900203665988}"
      ]
     },
     "execution_count": 24,
     "metadata": {},
     "output_type": "execute_result"
    }
   ],
   "source": [
    "eval_scorer_data_set(scorer_test)"
   ]
  },
  {
   "cell_type": "code",
   "execution_count": 44,
   "id": "388d4824-94cc-45cb-b520-64ae62ffb8a8",
   "metadata": {},
   "outputs": [],
   "source": [
    "llama3b_rewritings = pd.read_csv(f'{data_path}/iter1_train_rewrites_llama3_3B.csv')\n",
    "llama3b_instruct_rewritings = pd.read_csv(f'{data_path}/iter1_train_rewrites_llama3_3B_Instruct.csv')"
   ]
  },
  {
   "cell_type": "code",
   "execution_count": 27,
   "id": "6a2185e2-b73d-4477-a02f-f93b4838b7ac",
   "metadata": {},
   "outputs": [
    {
     "data": {
      "text/html": [
       "<div>\n",
       "<style scoped>\n",
       "    .dataframe tbody tr th:only-of-type {\n",
       "        vertical-align: middle;\n",
       "    }\n",
       "\n",
       "    .dataframe tbody tr th {\n",
       "        vertical-align: top;\n",
       "    }\n",
       "\n",
       "    .dataframe thead th {\n",
       "        text-align: right;\n",
       "    }\n",
       "</style>\n",
       "<table border=\"1\" class=\"dataframe\">\n",
       "  <thead>\n",
       "    <tr style=\"text-align: right;\">\n",
       "      <th></th>\n",
       "      <th>id</th>\n",
       "      <th>from_id</th>\n",
       "      <th>task</th>\n",
       "      <th>essay</th>\n",
       "      <th>from_essay</th>\n",
       "      <th>band</th>\n",
       "      <th>from_band</th>\n",
       "      <th>timestamp</th>\n",
       "      <th>iteration</th>\n",
       "      <th>source</th>\n",
       "    </tr>\n",
       "  </thead>\n",
       "  <tbody>\n",
       "    <tr>\n",
       "      <th>0</th>\n",
       "      <td>371578161982775582</td>\n",
       "      <td>205317551540882966</td>\n",
       "      <td>The education of young people is highly priori...</td>\n",
       "      <td>&lt;NL&gt;</td>\n",
       "      <td>The provision of funding and building structur...</td>\n",
       "      <td>-1</td>\n",
       "      <td>4.0</td>\n",
       "      <td>2024-11-28=12:14:33.588220</td>\n",
       "      <td>1</td>\n",
       "      <td>meta-llama/Llama-3.2-3B</td>\n",
       "    </tr>\n",
       "    <tr>\n",
       "      <th>1</th>\n",
       "      <td>148214375958204515</td>\n",
       "      <td>80980040823497423</td>\n",
       "      <td>The education of young people is highly priori...</td>\n",
       "      <td>&lt;NL&gt;</td>\n",
       "      <td>The economy of governments hugely depends on t...</td>\n",
       "      <td>-1</td>\n",
       "      <td>8.0</td>\n",
       "      <td>2024-11-28=12:14:33.588220</td>\n",
       "      <td>1</td>\n",
       "      <td>meta-llama/Llama-3.2-3B</td>\n",
       "    </tr>\n",
       "    <tr>\n",
       "      <th>2</th>\n",
       "      <td>643174284065155506</td>\n",
       "      <td>126786306141139706</td>\n",
       "      <td>The education of young people is highly priori...</td>\n",
       "      <td>&lt;NL&gt;</td>\n",
       "      <td>Generally, it is observed that in most countri...</td>\n",
       "      <td>-1</td>\n",
       "      <td>7.5</td>\n",
       "      <td>2024-11-28=12:14:33.588220</td>\n",
       "      <td>1</td>\n",
       "      <td>meta-llama/Llama-3.2-3B</td>\n",
       "    </tr>\n",
       "    <tr>\n",
       "      <th>3</th>\n",
       "      <td>323646821219054297</td>\n",
       "      <td>792142936617782956</td>\n",
       "      <td>The education of young people is highly priori...</td>\n",
       "      <td>&lt;NL&gt;&lt;NL&gt;</td>\n",
       "      <td>Education has been an important issue across t...</td>\n",
       "      <td>-1</td>\n",
       "      <td>9.0</td>\n",
       "      <td>2024-11-28=12:14:33.588220</td>\n",
       "      <td>1</td>\n",
       "      <td>meta-llama/Llama-3.2-3B</td>\n",
       "    </tr>\n",
       "    <tr>\n",
       "      <th>4</th>\n",
       "      <td>353177976444116621</td>\n",
       "      <td>505475847536423477</td>\n",
       "      <td>The education of young people is highly priori...</td>\n",
       "      <td>&lt;NL&gt;</td>\n",
       "      <td>The economy of governments hugely depends on t...</td>\n",
       "      <td>-1</td>\n",
       "      <td>8.0</td>\n",
       "      <td>2024-11-28=12:14:33.588220</td>\n",
       "      <td>1</td>\n",
       "      <td>meta-llama/Llama-3.2-3B</td>\n",
       "    </tr>\n",
       "  </tbody>\n",
       "</table>\n",
       "</div>"
      ],
      "text/plain": [
       "                   id             from_id  \\\n",
       "0  371578161982775582  205317551540882966   \n",
       "1  148214375958204515   80980040823497423   \n",
       "2  643174284065155506  126786306141139706   \n",
       "3  323646821219054297  792142936617782956   \n",
       "4  353177976444116621  505475847536423477   \n",
       "\n",
       "                                                task     essay  \\\n",
       "0  The education of young people is highly priori...      <NL>   \n",
       "1  The education of young people is highly priori...      <NL>   \n",
       "2  The education of young people is highly priori...      <NL>   \n",
       "3  The education of young people is highly priori...  <NL><NL>   \n",
       "4  The education of young people is highly priori...      <NL>   \n",
       "\n",
       "                                          from_essay  band  from_band  \\\n",
       "0  The provision of funding and building structur...    -1        4.0   \n",
       "1  The economy of governments hugely depends on t...    -1        8.0   \n",
       "2  Generally, it is observed that in most countri...    -1        7.5   \n",
       "3  Education has been an important issue across t...    -1        9.0   \n",
       "4  The economy of governments hugely depends on t...    -1        8.0   \n",
       "\n",
       "                    timestamp  iteration                   source  \n",
       "0  2024-11-28=12:14:33.588220          1  meta-llama/Llama-3.2-3B  \n",
       "1  2024-11-28=12:14:33.588220          1  meta-llama/Llama-3.2-3B  \n",
       "2  2024-11-28=12:14:33.588220          1  meta-llama/Llama-3.2-3B  \n",
       "3  2024-11-28=12:14:33.588220          1  meta-llama/Llama-3.2-3B  \n",
       "4  2024-11-28=12:14:33.588220          1  meta-llama/Llama-3.2-3B  "
      ]
     },
     "execution_count": 27,
     "metadata": {},
     "output_type": "execute_result"
    }
   ],
   "source": [
    "llama3b_rewritings.head()"
   ]
  },
  {
   "cell_type": "code",
   "execution_count": 46,
   "id": "a301d8c6-8e1a-4ee9-9444-d6c1ae81c809",
   "metadata": {},
   "outputs": [],
   "source": [
    "def eval_rewritings(df):\n",
    "    cnt = 0\n",
    "    trash_cnt = 0\n",
    "    same_cnt = 0\n",
    "    better_cnt = 0\n",
    "    worse_cnt = 0\n",
    "    broken_essays = 0\n",
    "    \n",
    "    for task, essay, from_band in zip(df['task'], df['essay'], df['from_band']):\n",
    "        if not isinstance(essay, str):\n",
    "            broken_essays += 1\n",
    "            continue\n",
    "\n",
    "        cnt += 1\n",
    "        new_score = float(essay_scorer.score(task, essay))\n",
    "        score_diff = new_score - from_band\n",
    "\n",
    "        if score_diff < -10:\n",
    "            trash_cnt += 1\n",
    "\n",
    "        if abs(score_diff) < 1:\n",
    "            same_cnt += 1\n",
    "        elif score_diff < 0:\n",
    "            worse_cnt += 1\n",
    "        else:\n",
    "            better_cnt += 1\n",
    "\n",
    "    return {\n",
    "        'cnt': cnt,\n",
    "        'same_share': same_cnt / cnt,\n",
    "        'better_share': better_cnt / cnt,\n",
    "        'worse_share': worse_cnt / cnt,\n",
    "        'trash_share': trash_cnt / cnt,\n",
    "        'broken_essays': broken_essays,\n",
    "    }"
   ]
  },
  {
   "cell_type": "code",
   "execution_count": 47,
   "id": "aabde576-016a-407c-bc9b-569ab4451dd2",
   "metadata": {},
   "outputs": [
    {
     "data": {
      "text/plain": [
       "{'cnt': 9830,\n",
       " 'same_share': 0.1338758901322482,\n",
       " 'better_share': 0.023092573753814852,\n",
       " 'worse_share': 0.8430315361139369,\n",
       " 'trash_share': 0.751881993896236,\n",
       " 'broken_essays': 2}"
      ]
     },
     "execution_count": 47,
     "metadata": {},
     "output_type": "execute_result"
    }
   ],
   "source": [
    "eval_rewritings(llama3b_rewritings)"
   ]
  },
  {
   "cell_type": "code",
   "execution_count": 48,
   "id": "c7823efc-5e78-4844-a259-a1dfade8a78e",
   "metadata": {},
   "outputs": [
    {
     "data": {
      "text/plain": [
       "{'cnt': 9795,\n",
       " 'same_share': 0.3647779479326187,\n",
       " 'better_share': 0.31546707503828486,\n",
       " 'worse_share': 0.3197549770290965,\n",
       " 'trash_share': 0.006023481368044921,\n",
       " 'broken_essays': 37}"
      ]
     },
     "execution_count": 48,
     "metadata": {},
     "output_type": "execute_result"
    }
   ],
   "source": [
    "eval_rewritings(llama3b_instruct_rewritings)"
   ]
  },
  {
   "cell_type": "code",
   "execution_count": null,
   "id": "7b5185a7-9569-4cac-a4a7-291847f1568f",
   "metadata": {},
   "outputs": [],
   "source": []
  }
 ],
 "metadata": {
  "kernelspec": {
   "display_name": "gpu_server_env",
   "language": "python",
   "name": "gpu_server_env"
  },
  "language_info": {
   "codemirror_mode": {
    "name": "ipython",
    "version": 3
   },
   "file_extension": ".py",
   "mimetype": "text/x-python",
   "name": "python",
   "nbconvert_exporter": "python",
   "pygments_lexer": "ipython3",
   "version": "3.13.0"
  }
 },
 "nbformat": 4,
 "nbformat_minor": 5
}
