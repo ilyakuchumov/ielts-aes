{
 "cells": [
  {
   "cell_type": "code",
   "id": "initial_id",
   "metadata": {
    "collapsed": true,
    "ExecuteTime": {
     "end_time": "2024-11-08T21:07:16.258961Z",
     "start_time": "2024-11-08T21:07:15.431041Z"
    }
   },
   "source": [
    "import sys\n",
    "sys.path.append(\"../\")\n",
    "\n",
    "from essay_scorer import EssayScorer"
   ],
   "outputs": [],
   "execution_count": 1
  },
  {
   "metadata": {
    "ExecuteTime": {
     "end_time": "2024-11-08T21:07:18.303818Z",
     "start_time": "2024-11-08T21:07:16.919383Z"
    }
   },
   "cell_type": "code",
   "source": "es = EssayScorer.load('/Users/ilyakuchumov/PycharmProjects/ielts-aes/src/head_model')",
   "id": "e2ace70f69f1402c",
   "outputs": [
    {
     "name": "stderr",
     "output_type": "stream",
     "text": [
      "/Users/ilyakuchumov/Library/Python/3.9/lib/python/site-packages/urllib3/__init__.py:35: NotOpenSSLWarning: urllib3 v2 only supports OpenSSL 1.1.1+, currently the 'ssl' module is compiled with 'LibreSSL 2.8.3'. See: https://github.com/urllib3/urllib3/issues/3020\n",
      "  warnings.warn(\n",
      "/Users/ilyakuchumov/Library/Python/3.9/lib/python/site-packages/tqdm/auto.py:21: TqdmWarning: IProgress not found. Please update jupyter and ipywidgets. See https://ipywidgets.readthedocs.io/en/stable/user_install.html\n",
      "  from .autonotebook import tqdm as notebook_tqdm\n"
     ]
    }
   ],
   "execution_count": 2
  },
  {
   "metadata": {
    "ExecuteTime": {
     "end_time": "2024-11-08T21:07:18.926131Z",
     "start_time": "2024-11-08T21:07:18.922904Z"
    }
   },
   "cell_type": "code",
   "source": "task = 'Fresh water has always been a limited resource in some parts of the world. Today, however, growing worldwide demand has made this a global problem. What are the causes of the increased demand and what measure could governments and individuals take to respond to this problem?'",
   "id": "fb7fcd07371c263f",
   "outputs": [],
   "execution_count": 3
  },
  {
   "metadata": {
    "ExecuteTime": {
     "end_time": "2024-11-08T21:07:19.197895Z",
     "start_time": "2024-11-08T21:07:19.193392Z"
    }
   },
   "cell_type": "code",
   "source": [
    "essay = '''Fresh water resource is a worldwide issue, that is related to varied factors, and it should be involve every country in the world. This essay will illustrate some reasons of the increasing demand and some solutions to solve as soon as possible.\n",
    "\n",
    "Nowadays, because of industrialization, many European country has resolved this problem because every citizen are able to get drinkable water, but there is a huge difference with the third countries. Although, European people do not miss water, limited water resource is becoming a global emergency that could affect every nation.\n",
    "\n",
    "Firstly, the rising request is related to the overpopulation; that is the reason why Chinese government has tried to reduce and regulate birth, so they have got the power to limit and control the population growth; this is not a reasonable political action to take.\n",
    "\n",
    "Secondly, the overpopulation has caused a growing demand of food, so further water has been used by farmer for agriculture; moreover, not all the farms have an appropriate and modern infrastructures and machines to give water to the soil, consequently a huge amount of this natural resource is wasted.\n",
    "\n",
    "A solution could be taken by local governments, such as, investments in new technologies, which are able to reuse water from soil, or more invested money on the creation of food in laboratories, in this last scenario a vast amount of water could be saved.\n",
    "\n",
    "In addition, global warming has affected significantly this issue, for this reason international cooperation should try to reduce the environment changing to preserve water, avoiding deforestation and pollution, increasing renewable energy.\n",
    "I would suggest teaching and educating children and students to save water in everyday life, these lessons could help them to notice their usage in their private house.\n",
    "\n",
    "In conclusion, I think some solutions could be found to fix the problem; however, we should work all together to make the difference.'''"
   ],
   "id": "252d46078524d0d8",
   "outputs": [],
   "execution_count": 4
  },
  {
   "metadata": {
    "ExecuteTime": {
     "end_time": "2024-11-08T21:07:19.797909Z",
     "start_time": "2024-11-08T21:07:19.791481Z"
    }
   },
   "cell_type": "code",
   "source": "es.__dict__",
   "id": "21431b640538a477",
   "outputs": [
    {
     "data": {
      "text/plain": [
       "{'embedding_model_name': 'hs-hf/jina-embeddings-v3-distilled',\n",
       " 'embedding_model': <model2vec.model.StaticModel at 0x10a39f610>,\n",
       " 'essay_scorer_head_model': EssayScorerHead(\n",
       "   (fc1): Linear(in_features=1024, out_features=50, bias=True)\n",
       "   (relu1): ReLU()\n",
       "   (fc2): Linear(in_features=50, out_features=50, bias=True)\n",
       "   (relu2): ReLU()\n",
       "   (fc3): Linear(in_features=50, out_features=50, bias=True)\n",
       "   (relu3): ReLU()\n",
       "   (fc4): Linear(in_features=50, out_features=1, bias=True)\n",
       " )}"
      ]
     },
     "execution_count": 5,
     "metadata": {},
     "output_type": "execute_result"
    }
   ],
   "execution_count": 5
  },
  {
   "metadata": {
    "ExecuteTime": {
     "end_time": "2024-11-08T21:07:21.092296Z",
     "start_time": "2024-11-08T21:07:21.088184Z"
    }
   },
   "cell_type": "code",
   "source": "es.score",
   "id": "51c47db24547f290",
   "outputs": [
    {
     "data": {
      "text/plain": [
       "<bound method EssayScorer.score of <essay_scorer.EssayScorer object at 0x11ae54eb0>>"
      ]
     },
     "execution_count": 6,
     "metadata": {},
     "output_type": "execute_result"
    }
   ],
   "execution_count": 6
  },
  {
   "metadata": {
    "ExecuteTime": {
     "end_time": "2024-11-09T01:07:15.988517Z",
     "start_time": "2024-11-09T01:07:15.981003Z"
    }
   },
   "cell_type": "code",
   "source": [
    "# band 6\n",
    "es.score(task, essay)"
   ],
   "id": "bf6e573074fe97df",
   "outputs": [
    {
     "data": {
      "text/plain": [
       "tensor([[5.8518]], grad_fn=<AddmmBackward0>)"
      ]
     },
     "execution_count": 15,
     "metadata": {},
     "output_type": "execute_result"
    }
   ],
   "execution_count": 15
  },
  {
   "metadata": {
    "ExecuteTime": {
     "end_time": "2024-11-09T01:03:19.593378Z",
     "start_time": "2024-11-09T01:03:19.587555Z"
    }
   },
   "cell_type": "code",
   "source": [
    "task2 = '''\n",
    "Some people think that the increasing use of computers and mobile phones for communication has a negative effect on young people's reading and writing skills.\n",
    "\n",
    "To what extent do you agree or disagree?\n",
    "'''"
   ],
   "id": "1536c4b6d9af40ea",
   "outputs": [],
   "execution_count": 9
  },
  {
   "metadata": {
    "ExecuteTime": {
     "end_time": "2024-11-09T01:03:31.058332Z",
     "start_time": "2024-11-09T01:03:31.055403Z"
    }
   },
   "cell_type": "code",
   "source": [
    "essay2 = '''\n",
    "Nowadays, our life improved by technology developments. Although some people think that communication through computers and mobile phones increased and has a detrimental effect on how young generation develop their skills in reading and writing, others think that this impact of technology is not a disadvantage. I strongly belive that young people reading and writing skills have suffered due to increasing usage of computers and mobile phones.\n",
    "\n",
    "To begin with, technology  increases day by day and we have to be aware of what is new and implement it on our everyday life. It is certainly known that communication through online platforms it is more easier than the usual one and currently it is vital to have at least one tool like mobile phone or computer if someone wants to have an online conversation with somebody else. A survey was conducted on young subjects in 2007, in the United Kingdom and almost 90% of their respondents agreed with the fact that communication using devices is easier and more effective than using traditional ways and they looked more willing to use a device, like a digital book rather than have similar reading like in the previous generations.\n",
    "\n",
    "To add more, there are many situations which provide that communication using only devices can be deficitary and it involves a lot of disadvantages. First and foremost, young generation can not experience the biggest pleasure of reading a new book, feeling the fragrance of their pages while sitting at the desk. Also, from the primary school, children learn how to effectively write and this situation needs improvement every day, because currently during the classes, many children get distracted and try to avoid what is vital for a society: to know how to correctly write. What is more, it has been proven that writing on a device decrease the rate of concentration in left emisphere of the brain and ought to this issue, many health problems can appear and develop. Nevertheless, technology development is an insurmontable situation that can not be stopped. During the years 2010-2020, a study was made using foreign students from my University and the results shown that those who used devices like mobile phones or computers in order to communicate had a lower rate of learning our mother tongue than others who concentrated on traditional books. Furthermore, a long period of time looking at blue screens affected the visual content and therefore most of them needed to see an Ophtalmologist.\n",
    "\n",
    "To conclude, it is evident that communication is the most striking feature in our everyday life and both traditional and digital paths can be used, but younger generation needs to be aware of the disadvantages of using most of the time only devices like computers and mobile phones, because the drawbacks can outweigh more than the positive effects.\n",
    "'''"
   ],
   "id": "51db69eae5d06f07",
   "outputs": [],
   "execution_count": 10
  },
  {
   "metadata": {
    "ExecuteTime": {
     "end_time": "2024-11-09T01:07:24.037507Z",
     "start_time": "2024-11-09T01:07:24.032404Z"
    }
   },
   "cell_type": "code",
   "source": [
    "# band 6\n",
    "es.score(task2, essay2)"
   ],
   "id": "3d80f65287d0a926",
   "outputs": [
    {
     "data": {
      "text/plain": [
       "tensor([[5.2816]], grad_fn=<AddmmBackward0>)"
      ]
     },
     "execution_count": 16,
     "metadata": {},
     "output_type": "execute_result"
    }
   ],
   "execution_count": 16
  },
  {
   "metadata": {
    "ExecuteTime": {
     "end_time": "2024-11-09T01:05:43.215976Z",
     "start_time": "2024-11-09T01:05:43.213419Z"
    }
   },
   "cell_type": "code",
   "source": [
    "task3 = '''\n",
    "Many people argue that museums and art galleries should present the nation’s art, as opposed to artworks from other countries. To what extent do you agree or disagree?\n",
    "'''"
   ],
   "id": "6324178351c165c8",
   "outputs": [],
   "execution_count": 12
  },
  {
   "metadata": {
    "ExecuteTime": {
     "end_time": "2024-11-09T01:06:00.320451Z",
     "start_time": "2024-11-09T01:06:00.315615Z"
    }
   },
   "cell_type": "code",
   "source": [
    "essay3 = '''\n",
    "The cultural value of engaging with museums and art galleries is unquestionable; they exert a great deal of influence on our perception of the world. It is only reasonable to ponder whether or not these outlets of culture should concentrate their efforts on presenting the nation’s own art, and not that of other countries. In my opinion, there should be an attempt to strike a balance and put the objects of national art in the spotlight, while allowing the public to get acquainted with foreign artworks to a certain extent.\n",
    "\n",
    "If people were to only find sculptures and paintings by national artists in their local museums, that would have a number of positive effects, such as the fame the artists of that country would gain and the pride its citizens would feel for their fellow countrymen. It would promote patriotism and strengthen the image of the country in the eyes of its inhabitants. Local artists would also receive more financial assistance from the government as their works would generate a significant amount of interest, potentially resulting in further development of the local art. However, in order to evolve art needs fresh ideas, and without exposure to a wider range of creativity the world provides, the evolution of local arts may be hindered.\n",
    "\n",
    "People enjoy art because it appeals to their inner sense of beauty and triggers strong emotions, and whether the masterpiece that causes these feelings belongs to a local or foreign artist is irrelevant. Talent knows no geographical boundaries; therefore, the emphasis should be on how much joy or amazement the work of art brings, rather than on its origin. If that principle were to be followed, we would never have to choose between local and international art. Reducing our museums or galleries’ collections to local art works, in my view, would be harmful and go against the democratic nature of art.\n",
    "\n",
    "To sum up, it seems to me that a country has nothing to lose by allowing its people to admire art created elsewhere in the world. A conscious choice by the government to support local artists while hosting exhibitions from other countries could prove the most beneficial.\n",
    "'''"
   ],
   "id": "fb547fc82b69835d",
   "outputs": [],
   "execution_count": 13
  },
  {
   "metadata": {
    "ExecuteTime": {
     "end_time": "2024-11-09T01:07:31.837071Z",
     "start_time": "2024-11-09T01:07:31.829759Z"
    }
   },
   "cell_type": "code",
   "source": [
    "# band 8 or band 8.5\n",
    "es.score(task3, essay3)"
   ],
   "id": "8638ee749428a89e",
   "outputs": [
    {
     "data": {
      "text/plain": [
       "tensor([[8.6477]], grad_fn=<AddmmBackward0>)"
      ]
     },
     "execution_count": 17,
     "metadata": {},
     "output_type": "execute_result"
    }
   ],
   "execution_count": 17
  },
  {
   "metadata": {},
   "cell_type": "code",
   "outputs": [],
   "execution_count": null,
   "source": "",
   "id": "30b8a2ac08239d5c"
  }
 ],
 "metadata": {
  "kernelspec": {
   "display_name": "Python 3",
   "language": "python",
   "name": "python3"
  },
  "language_info": {
   "codemirror_mode": {
    "name": "ipython",
    "version": 2
   },
   "file_extension": ".py",
   "mimetype": "text/x-python",
   "name": "python",
   "nbconvert_exporter": "python",
   "pygments_lexer": "ipython2",
   "version": "2.7.6"
  }
 },
 "nbformat": 4,
 "nbformat_minor": 5
}
