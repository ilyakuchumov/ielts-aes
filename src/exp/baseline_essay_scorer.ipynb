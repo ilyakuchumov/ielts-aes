{
 "cells": [
  {
   "cell_type": "code",
   "id": "initial_id",
   "metadata": {
    "collapsed": true,
    "ExecuteTime": {
     "end_time": "2024-11-03T17:19:41.570095Z",
     "start_time": "2024-11-03T17:19:41.565778Z"
    }
   },
   "source": [
    "import numpy as np\n",
    "import pandas as pd\n",
    "from tqdm import tqdm\n",
    "import matplotlib.pyplot as plt\n",
    "from IPython.core.debugger import prompt\n",
    "from numpy import dtype"
   ],
   "outputs": [],
   "execution_count": 19
  },
  {
   "metadata": {
    "ExecuteTime": {
     "end_time": "2024-11-02T18:49:48.558063Z",
     "start_time": "2024-11-02T18:49:48.204135Z"
    }
   },
   "cell_type": "code",
   "source": [
    "data_path = '../data'\n",
    "train = pd.read_csv(f'{data_path}/chillies_gpt_eval_train.csv')\n",
    "test = pd.read_csv(f'{data_path}/chillies_gpt_eval_test.csv')"
   ],
   "id": "ae588168ae281942",
   "outputs": [],
   "execution_count": 2
  },
  {
   "metadata": {
    "ExecuteTime": {
     "end_time": "2024-11-02T18:49:48.565407Z",
     "start_time": "2024-11-02T18:49:48.562260Z"
    }
   },
   "cell_type": "code",
   "source": [
    "def process_dataset(dataset):\n",
    "    questions = []\n",
    "    essays = []\n",
    "    bands = []\n",
    "    \n",
    "    for prompt, essay, band in zip(dataset['prompt'], dataset['essay'], dataset['band']):\n",
    "        processed_question = str(prompt.strip())\n",
    "        processed_essay = str(essay.strip())\n",
    "        while band[0] == '<':\n",
    "            band = band[1:]\n",
    "        processed_band = float(band.strip())\n",
    "        \n",
    "        if len(processed_question) < 10 or len(processed_essay) < 10:\n",
    "            print('bad row: ', processed_question, processed_essay)\n",
    "            continue\n",
    "        \n",
    "        questions.append(processed_question)\n",
    "        essays.append(processed_essay)\n",
    "        bands.append(processed_band)\n",
    "        \n",
    "    return pd.DataFrame(data={'question': questions, 'essay': essays, 'band': bands})"
   ],
   "id": "ecf10a08237516d7",
   "outputs": [],
   "execution_count": 3
  },
  {
   "metadata": {
    "ExecuteTime": {
     "end_time": "2024-11-02T18:49:48.979704Z",
     "start_time": "2024-11-02T18:49:48.967669Z"
    }
   },
   "cell_type": "code",
   "source": [
    "processed_train = process_dataset(train)\n",
    "processed_test = process_dataset(test)"
   ],
   "id": "7444ea2b6022879e",
   "outputs": [
    {
     "name": "stdout",
     "output_type": "stream",
     "text": [
      "bad row:  Some people believe that studying at university or college is the best route to a  successful career, while others believe that it is better to get a job straight after school.  Discuss both views and give your opinion. #NAME?\n"
     ]
    }
   ],
   "execution_count": 4
  },
  {
   "metadata": {
    "ExecuteTime": {
     "end_time": "2024-11-02T18:49:49.480774Z",
     "start_time": "2024-11-02T18:49:49.408562Z"
    }
   },
   "cell_type": "code",
   "source": "processed_train['band'].hist()",
   "id": "536c10aecbf825ef",
   "outputs": [
    {
     "data": {
      "text/plain": [
       "<Axes: >"
      ]
     },
     "execution_count": 5,
     "metadata": {},
     "output_type": "execute_result"
    },
    {
     "data": {
      "text/plain": [
       "<Figure size 640x480 with 1 Axes>"
      ],
      "image/png": "[encoded data removed]"
     },
     "metadata": {},
     "output_type": "display_data"
    }
   ],
   "execution_count": 5
  },
  {
   "metadata": {
    "ExecuteTime": {
     "end_time": "2024-11-02T18:49:50.217069Z",
     "start_time": "2024-11-02T18:49:50.144672Z"
    }
   },
   "cell_type": "code",
   "source": "processed_test['band'].hist()",
   "id": "2e427c4f82673491",
   "outputs": [
    {
     "data": {
      "text/plain": [
       "<Axes: >"
      ]
     },
     "execution_count": 6,
     "metadata": {},
     "output_type": "execute_result"
    },
    {
     "data": {
      "text/plain": [
       "<Figure size 640x480 with 1 Axes>"
      ],
      "image/png": "[encoded data removed]"
     },
     "metadata": {},
     "output_type": "display_data"
    }
   ],
   "execution_count": 6
  },
  {
   "metadata": {
    "ExecuteTime": {
     "end_time": "2024-11-02T18:54:56.484496Z",
     "start_time": "2024-11-02T18:52:41.927772Z"
    }
   },
   "cell_type": "code",
   "source": [
    "# https://huggingface.co/jinaai/jina-embeddings-v3 \n",
    "# https://huggingface.co/hs-hf/jina-embeddings-v3-distilled\n",
    "\n",
    "from model2vec import StaticModel\n",
    "\n",
    "# Load a pretrained Model2Vec model\n",
    "model = StaticModel.from_pretrained(\"hs-hf/jina-embeddings-v3-distilled\")\n",
    "\n",
    "# Compute text embeddings\n",
    "# embeddings = model.encode([\"Example sentence\"])\n"
   ],
   "id": "4f1124a57cf618a7",
   "outputs": [],
   "execution_count": 10
  },
  {
   "metadata": {
    "ExecuteTime": {
     "end_time": "2024-11-02T18:56:22.331375Z",
     "start_time": "2024-11-02T18:56:22.328660Z"
    }
   },
   "cell_type": "code",
   "source": "embeddings = model.encode([\"Example sentence hi\"])",
   "id": "c32faecef82c7862",
   "outputs": [],
   "execution_count": 17
  },
  {
   "metadata": {
    "ExecuteTime": {
     "end_time": "2024-11-02T18:56:22.651167Z",
     "start_time": "2024-11-02T18:56:22.646685Z"
    }
   },
   "cell_type": "code",
   "source": "embeddings.shape",
   "id": "b2ec8796b5e00d9d",
   "outputs": [
    {
     "data": {
      "text/plain": [
       "(1, 512)"
      ]
     },
     "execution_count": 18,
     "metadata": {},
     "output_type": "execute_result"
    }
   ],
   "execution_count": 18
  },
  {
   "metadata": {
    "ExecuteTime": {
     "end_time": "2024-11-03T17:27:23.154984Z",
     "start_time": "2024-11-03T17:27:23.150551Z"
    }
   },
   "cell_type": "code",
   "source": [
    "def compute_embeddings(processed_df):\n",
    "    X = []\n",
    "    Y = []\n",
    "    for q, a, b in tqdm(zip(processed_df['question'], processed_df['essay'], processed_df['band'])):\n",
    "        qv = model.encode([q]).squeeze()\n",
    "        av = model.encode([a]).squeeze()\n",
    "        X.append(np.concatenate([qv, av]))\n",
    "        Y.append(b)\n",
    "    return np.array(X), np.array(Y)"
   ],
   "id": "61a0b1d24c60e28e",
   "outputs": [],
   "execution_count": 40
  },
  {
   "metadata": {
    "ExecuteTime": {
     "end_time": "2024-11-03T17:27:39.216908Z",
     "start_time": "2024-11-03T17:27:33.137838Z"
    }
   },
   "cell_type": "code",
   "source": "X_train, Y_train = compute_embeddings(processed_train)",
   "id": "739868e18a75e977",
   "outputs": [
    {
     "name": "stderr",
     "output_type": "stream",
     "text": [
      "9832it [00:06, 1620.69it/s]\n"
     ]
    }
   ],
   "execution_count": 41
  },
  {
   "metadata": {
    "ExecuteTime": {
     "end_time": "2024-11-03T17:27:40.523484Z",
     "start_time": "2024-11-03T17:27:40.182181Z"
    }
   },
   "cell_type": "code",
   "source": "X_test, Y_test = compute_embeddings(processed_test)",
   "id": "ee596d578ac939e0",
   "outputs": [
    {
     "name": "stderr",
     "output_type": "stream",
     "text": [
      "491it [00:00, 1462.29it/s]\n"
     ]
    }
   ],
   "execution_count": 42
  },
  {
   "metadata": {
    "ExecuteTime": {
     "end_time": "2024-11-03T17:34:32.188973Z",
     "start_time": "2024-11-03T17:34:28.768825Z"
    }
   },
   "cell_type": "code",
   "source": [
    "import torch\n",
    "from torch import nn"
   ],
   "id": "61c958163a5695a0",
   "outputs": [],
   "execution_count": 44
  },
  {
   "metadata": {
    "ExecuteTime": {
     "end_time": "2024-11-03T18:12:56.499259Z",
     "start_time": "2024-11-03T18:12:56.494505Z"
    }
   },
   "cell_type": "code",
   "source": [
    "class NeuralNetwork(nn.Module):\n",
    "    def __init__(self):\n",
    "        super().__init__()\n",
    "        self.float()\n",
    "        \n",
    "        self.fc1 = nn.Linear(X_train.shape[1], 100)\n",
    "        self.relu1 = nn.ReLU()\n",
    "        self.fc2 = nn.Linear(100, 100)\n",
    "        self.relu2 = nn.ReLU()\n",
    "        self.fc3 = nn.Linear(100, 1)\n",
    "\n",
    "    def forward(self, x):\n",
    "        x = self.fc1(x)\n",
    "        x = self.relu1(x)\n",
    "        x = self.fc2(x)\n",
    "        x = self.relu2(x)\n",
    "        x = self.fc3(x)\n",
    "        return x"
   ],
   "id": "7ea491a303510a2e",
   "outputs": [],
   "execution_count": 153
  },
  {
   "metadata": {
    "ExecuteTime": {
     "end_time": "2024-11-03T18:12:57.546932Z",
     "start_time": "2024-11-03T18:12:57.542541Z"
    }
   },
   "cell_type": "code",
   "source": [
    "from torch.utils.data import Dataset, DataLoader\n",
    "\n",
    "class BandDataset(Dataset):\n",
    "    def __init__(self, X, y):\n",
    "        self.X = X\n",
    "        self.y = y\n",
    "\n",
    "    def __len__(self):\n",
    "        return self.X.shape[0]\n",
    "\n",
    "    def __getitem__(self, idx):\n",
    "        return self.X[idx], np.array([self.y[idx]], dtype=np.float32)"
   ],
   "id": "bd7f01f575811dd6",
   "outputs": [],
   "execution_count": 154
  },
  {
   "metadata": {
    "ExecuteTime": {
     "end_time": "2024-11-03T18:12:57.831172Z",
     "start_time": "2024-11-03T18:12:57.826614Z"
    }
   },
   "cell_type": "code",
   "source": "band_model = NeuralNetwork()",
   "id": "a518cf71e61a2533",
   "outputs": [],
   "execution_count": 155
  },
  {
   "metadata": {
    "ExecuteTime": {
     "end_time": "2024-11-03T18:12:58.037905Z",
     "start_time": "2024-11-03T18:12:58.034455Z"
    }
   },
   "cell_type": "code",
   "source": "print(band_model)",
   "id": "5baabdd8d3a6d7b6",
   "outputs": [
    {
     "name": "stdout",
     "output_type": "stream",
     "text": [
      "NeuralNetwork(\n",
      "  (fc1): Linear(in_features=1024, out_features=100, bias=True)\n",
      "  (relu1): ReLU()\n",
      "  (fc2): Linear(in_features=100, out_features=100, bias=True)\n",
      "  (relu2): ReLU()\n",
      "  (fc3): Linear(in_features=100, out_features=1, bias=True)\n",
      ")\n"
     ]
    }
   ],
   "execution_count": 156
  },
  {
   "metadata": {
    "ExecuteTime": {
     "end_time": "2024-11-03T18:12:58.247289Z",
     "start_time": "2024-11-03T18:12:58.244903Z"
    }
   },
   "cell_type": "code",
   "source": "loss_fn = nn.MSELoss(reduction='mean')",
   "id": "25e3e4cbbee5577e",
   "outputs": [],
   "execution_count": 157
  },
  {
   "metadata": {
    "ExecuteTime": {
     "end_time": "2024-11-03T18:13:00.643349Z",
     "start_time": "2024-11-03T18:13:00.639868Z"
    }
   },
   "cell_type": "code",
   "source": "optimizer = torch.optim.Adam(band_model.parameters(), lr=0.001)",
   "id": "e93b27f8f250687d",
   "outputs": [],
   "execution_count": 158
  },
  {
   "metadata": {
    "ExecuteTime": {
     "end_time": "2024-11-03T18:13:01.014092Z",
     "start_time": "2024-11-03T18:13:01.011904Z"
    }
   },
   "cell_type": "code",
   "source": [
    "train_dataset = DataLoader(BandDataset(X_train, Y_train), batch_size=64, shuffle=True)\n",
    "test_dataset = DataLoader(BandDataset(X_test, Y_test), batch_size=64, shuffle=True)\n"
   ],
   "id": "7cd0a2f1f14f3573",
   "outputs": [],
   "execution_count": 159
  },
  {
   "metadata": {
    "ExecuteTime": {
     "end_time": "2024-11-03T18:14:13.455822Z",
     "start_time": "2024-11-03T18:14:13.451946Z"
    }
   },
   "cell_type": "code",
   "source": [
    "def train_loop(dataloader, model, loss_fn, optimizer):\n",
    "    size = len(dataloader.dataset)\n",
    "    model.train()\n",
    "    for batch, (X, y) in enumerate(dataloader):\n",
    "        pred = model(X)\n",
    "        loss = loss_fn(pred, y)\n",
    "\n",
    "        loss.backward()\n",
    "        optimizer.step()\n",
    "        optimizer.zero_grad()\n",
    "\n",
    "        if batch % 10 == 0:\n",
    "            loss, current = loss.item(), (batch + 1) * len(X)\n",
    "            print(f\"loss: {loss:>7f}  [{current:>5d}/{size:>5d}]\")"
   ],
   "id": "2ebcc12d25f49dfd",
   "outputs": [],
   "execution_count": 164
  },
  {
   "metadata": {
    "ExecuteTime": {
     "end_time": "2024-11-03T18:14:13.880319Z",
     "start_time": "2024-11-03T18:14:13.753654Z"
    }
   },
   "cell_type": "code",
   "source": [
    "for epoch in tqdm(range(1)):\n",
    "    train_loop(train_dataset, band_model, loss_fn, optimizer)"
   ],
   "id": "1724f828044f8287",
   "outputs": [
    {
     "name": "stderr",
     "output_type": "stream",
     "text": [
      "100%|██████████| 1/1 [00:00<00:00,  8.19it/s]"
     ]
    },
    {
     "name": "stdout",
     "output_type": "stream",
     "text": [
      "loss: 0.197049  [   64/ 9832]\n",
      "loss: 0.323903  [  704/ 9832]\n",
      "loss: 0.267660  [ 1344/ 9832]\n",
      "loss: 0.478483  [ 1984/ 9832]\n",
      "loss: 0.202596  [ 2624/ 9832]\n",
      "loss: 0.360074  [ 3264/ 9832]\n",
      "loss: 0.247825  [ 3904/ 9832]\n",
      "loss: 0.322454  [ 4544/ 9832]\n",
      "loss: 0.151781  [ 5184/ 9832]\n",
      "loss: 0.211346  [ 5824/ 9832]\n",
      "loss: 0.268217  [ 6464/ 9832]\n",
      "loss: 0.318623  [ 7104/ 9832]\n",
      "loss: 0.290590  [ 7744/ 9832]\n",
      "loss: 0.351009  [ 8384/ 9832]\n",
      "loss: 0.322333  [ 9024/ 9832]\n",
      "loss: 0.272907  [ 9664/ 9832]\n"
     ]
    },
    {
     "name": "stderr",
     "output_type": "stream",
     "text": [
      "\n"
     ]
    }
   ],
   "execution_count": 165
  },
  {
   "metadata": {
    "ExecuteTime": {
     "end_time": "2024-11-03T18:14:59.064242Z",
     "start_time": "2024-11-03T18:14:59.059712Z"
    }
   },
   "cell_type": "code",
   "source": [
    "def test_loop(dataloader, model, loss_fn):\n",
    "    # Set the model to evaluation mode - important for batch normalization and dropout layers\n",
    "    # Unnecessary in this situation but added for best practices\n",
    "    model.eval()\n",
    "    size = len(dataloader.dataset)\n",
    "    num_batches = len(dataloader)\n",
    "    test_loss, correct = 0, 0\n",
    "\n",
    "    # Evaluating the model with torch.no_grad() ensures that no gradients are computed during test mode\n",
    "    # also serves to reduce unnecessary gradient computations and memory usage for tensors with requires_grad=True\n",
    "    with torch.no_grad():\n",
    "        for X, y in dataloader:\n",
    "            pred = model(X)\n",
    "            test_loss += loss_fn(pred, y).item()\n",
    "            correct += (pred.argmax(1) == y).type(torch.float).sum().item()\n",
    "\n",
    "    test_loss /= num_batches\n",
    "    correct /= size\n",
    "    print(f\"Test Error: \\n Accuracy: {(100*correct):>0.1f}%, Avg loss: {test_loss:>8f} \\n\")"
   ],
   "id": "340e945f47987ff2",
   "outputs": [],
   "execution_count": 166
  },
  {
   "metadata": {
    "ExecuteTime": {
     "end_time": "2024-11-03T18:15:04.452746Z",
     "start_time": "2024-11-03T18:15:04.445896Z"
    }
   },
   "cell_type": "code",
   "source": "test_loop(test_dataset, band_model, loss_fn)",
   "id": "146ae8085068334f",
   "outputs": [
    {
     "name": "stdout",
     "output_type": "stream",
     "text": [
      "Test Error: \n",
      " Accuracy: 0.0%, Avg loss: 0.291748 \n",
      "\n"
     ]
    }
   ],
   "execution_count": 167
  },
  {
   "metadata": {},
   "cell_type": "code",
   "outputs": [],
   "execution_count": null,
   "source": " ",
   "id": "f54b568766d8df7f"
  }
 ],
 "metadata": {
  "kernelspec": {
   "display_name": "Python 3",
   "language": "python",
   "name": "python3"
  },
  "language_info": {
   "codemirror_mode": {
    "name": "ipython",
    "version": 2
   },
   "file_extension": ".py",
   "mimetype": "text/x-python",
   "name": "python",
   "nbconvert_exporter": "python",
   "pygments_lexer": "ipython2",
   "version": "2.7.6"
  }
 },
 "nbformat": 4,
 "nbformat_minor": 5
}
