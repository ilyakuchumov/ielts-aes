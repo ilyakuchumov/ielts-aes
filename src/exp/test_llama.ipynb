{
 "cells": [
  {
   "cell_type": "code",
   "execution_count": 1,
   "id": "6ef0e451-5bbf-45e5-842e-57578a8cc558",
   "metadata": {},
   "outputs": [],
   "source": [
    "import numpy as np\n",
    "import pandas as pd\n",
    "from tqdm import tqdm\n",
    "import matplotlib.pyplot as plt\n",
    "from numpy import dtype"
   ]
  },
  {
   "cell_type": "code",
   "execution_count": 2,
   "id": "d3bda346-efe1-4012-8d40-b1bb6a9c7ca6",
   "metadata": {},
   "outputs": [],
   "source": [
    "import sys\n",
    "sys.path.append(\"../\")\n",
    "\n",
    "from essay_scorer import EssayScorer"
   ]
  },
  {
   "cell_type": "code",
   "execution_count": 3,
   "id": "81debd80-ba89-4091-a6b3-ff05b30a3162",
   "metadata": {},
   "outputs": [],
   "source": [
    "es = EssayScorer.load('../head_model')"
   ]
  },
  {
   "cell_type": "code",
   "execution_count": 4,
   "id": "6c66091f-60df-4632-88f8-3d32f214aa05",
   "metadata": {},
   "outputs": [],
   "source": [
    "task1 = 'Fresh water has always been a limited resource in some parts of the world. Today, however, growing worldwide demand has made this a global problem. What are the causes of the increased demand and what measure could governments and individuals take to respond to this problem?'"
   ]
  },
  {
   "cell_type": "code",
   "execution_count": 5,
   "id": "1568a4a0-42c6-42bd-8132-f9191596d1d1",
   "metadata": {},
   "outputs": [],
   "source": [
    "essay1 = '''Fresh water resource is a worldwide issue, that is related to varied factors, and it should be involve every country in the world. This essay will illustrate some reasons of the increasing demand and some solutions to solve as soon as possible.\n",
    "\n",
    "Nowadays, because of industrialization, many European country has resolved this problem because every citizen are able to get drinkable water, but there is a huge difference with the third countries. Although, European people do not miss water, limited water resource is becoming a global emergency that could affect every nation.\n",
    "\n",
    "Firstly, the rising request is related to the overpopulation; that is the reason why Chinese government has tried to reduce and regulate birth, so they have got the power to limit and control the population growth; this is not a reasonable political action to take.\n",
    "\n",
    "Secondly, the overpopulation has caused a growing demand of food, so further water has been used by farmer for agriculture; moreover, not all the farms have an appropriate and modern infrastructures and machines to give water to the soil, consequently a huge amount of this natural resource is wasted.\n",
    "\n",
    "A solution could be taken by local governments, such as, investments in new technologies, which are able to reuse water from soil, or more invested money on the creation of food in laboratories, in this last scenario a vast amount of water could be saved.\n",
    "\n",
    "In addition, global warming has affected significantly this issue, for this reason international cooperation should try to reduce the environment changing to preserve water, avoiding deforestation and pollution, increasing renewable energy.\n",
    "I would suggest teaching and educating children and students to save water in everyday life, these lessons could help them to notice their usage in their private house.\n",
    "\n",
    "In conclusion, I think some solutions could be found to fix the problem; however, we should work all together to make the difference.'''"
   ]
  },
  {
   "cell_type": "code",
   "execution_count": 6,
   "id": "29d67053-e843-4e28-b6fd-e6a3fc61fc6b",
   "metadata": {},
   "outputs": [
    {
     "name": "stderr",
     "output_type": "stream",
     "text": [
      "/home/ubuntu/sync_dir/src/exp/../essay_scorer.py:175: UserWarning: Creating a tensor from a list of numpy.ndarrays is extremely slow. Please consider converting the list to a single numpy.ndarray with numpy.array() before converting to a tensor. (Triggered internally at /home/conda/feedstock_root/build_artifacts/libtorch_1730833640211/work/torch/csrc/utils/tensor_new.cpp:278.)\n",
      "  return self.essay_scorer_head_model(torch.FloatTensor([embedding]))\n"
     ]
    },
    {
     "data": {
      "text/plain": [
       "tensor([[5.8518]], grad_fn=<AddmmBackward0>)"
      ]
     },
     "execution_count": 6,
     "metadata": {},
     "output_type": "execute_result"
    }
   ],
   "source": [
    "# band 6\n",
    "es.score(task1, essay1)"
   ]
  },
  {
   "cell_type": "code",
   "execution_count": 7,
   "id": "95f36078-b593-436b-8004-86458c51a325",
   "metadata": {},
   "outputs": [
    {
     "name": "stderr",
     "output_type": "stream",
     "text": [
      "huggingface/tokenizers: The current process just got forked, after parallelism has already been used. Disabling parallelism to avoid deadlocks...\n",
      "To disable this warning, you can either:\n",
      "\t- Avoid using `tokenizers` before the fork if possible\n",
      "\t- Explicitly set the environment variable TOKENIZERS_PARALLELISM=(true | false)\n",
      "huggingface/tokenizers: The current process just got forked, after parallelism has already been used. Disabling parallelism to avoid deadlocks...\n",
      "To disable this warning, you can either:\n",
      "\t- Avoid using `tokenizers` before the fork if possible\n",
      "\t- Explicitly set the environment variable TOKENIZERS_PARALLELISM=(true | false)\n"
     ]
    },
    {
     "data": {
      "application/vnd.jupyter.widget-view+json": {
       "model_id": "b9d0479335e948ada239151b9a744ab0",
       "version_major": 2,
       "version_minor": 0
      },
      "text/plain": [
       "Loading checkpoint shards:   0%|          | 0/2 [00:00<?, ?it/s]"
      ]
     },
     "metadata": {},
     "output_type": "display_data"
    }
   ],
   "source": [
    "import torch\n",
    "\n",
    "from transformers import pipeline\n",
    "from transformers import AutoModelForCausalLM, AutoTokenizer\n",
    "\n",
    "model_id = \"meta-llama/Llama-3.2-3B-Instruct\"\n",
    "\n",
    "tokenizer = AutoTokenizer.from_pretrained(model_id, padding_side=\"left\")\n",
    "\n",
    "pipe = pipeline(\n",
    "    \"text-generation\", \n",
    "    model=model_id, \n",
    "    torch_dtype=torch.bfloat16, \n",
    "    device_map=\"auto\",\n",
    "    max_new_tokens=600,\n",
    "    pad_token_id = tokenizer.eos_token_id\n",
    ")\n",
    "\n",
    "# pipe(\"Just answer for 1 question with single word. What is the capital of US? Answer - \")\n"
   ]
  },
  {
   "cell_type": "code",
   "execution_count": 8,
   "id": "07ac717c-1341-4cc6-b2ea-b687551395ae",
   "metadata": {},
   "outputs": [],
   "source": [
    "PROMT = (\n",
    "    'Your task is to:\\n' +\n",
    "\n",
    "    'Enhance the essay\\'s clarity, grammar, vocabulary, and sentence structure while preserving the original meaning and ideas.\\n' +\n",
    "    'Avoid introducing new arguments or changing the essay’s overall structure or tone.\\n' +\n",
    "    'Limit changes to essential improvements—do not rewrite the essay extensively or modify more than necessary.\\n' +\n",
    "    'Please provide only the revised essay\\n' +\n",
    "\n",
    "    'Topic: {task}\\n' +\n",
    "    'Essay: {essay}\\n' +\n",
    "\n",
    "    '-----------------------\\n'\n",
    "    'Write new essay under this line and nothing else: \\n'\n",
    "    '-----------------------\\n'\n",
    ")"
   ]
  },
  {
   "cell_type": "code",
   "execution_count": 9,
   "id": "f08e346c-0608-4dda-9334-645e1e4fd8ac",
   "metadata": {},
   "outputs": [
    {
     "name": "stdout",
     "output_type": "stream",
     "text": [
      "Your task is to:\n",
      "Enhance the essay's clarity, grammar, vocabulary, and sentence structure while preserving the original meaning and ideas.\n",
      "Avoid introducing new arguments or changing the essay’s overall structure or tone.\n",
      "Limit changes to essential improvements—do not rewrite the essay extensively or modify more than necessary.\n",
      "Please provide only the revised essay\n",
      "Topic: Fresh water has always been a limited resource in some parts of the world. Today, however, growing worldwide demand has made this a global problem. What are the causes of the increased demand and what measure could governments and individuals take to respond to this problem?\n",
      "Essay: Fresh water resource is a worldwide issue, that is related to varied factors, and it should be involve every country in the world. This essay will illustrate some reasons of the increasing demand and some solutions to solve as soon as possible.\n",
      "\n",
      "Nowadays, because of industrialization, many European country has resolved this problem because every citizen are able to get drinkable water, but there is a huge difference with the third countries. Although, European people do not miss water, limited water resource is becoming a global emergency that could affect every nation.\n",
      "\n",
      "Firstly, the rising request is related to the overpopulation; that is the reason why Chinese government has tried to reduce and regulate birth, so they have got the power to limit and control the population growth; this is not a reasonable political action to take.\n",
      "\n",
      "Secondly, the overpopulation has caused a growing demand of food, so further water has been used by farmer for agriculture; moreover, not all the farms have an appropriate and modern infrastructures and machines to give water to the soil, consequently a huge amount of this natural resource is wasted.\n",
      "\n",
      "A solution could be taken by local governments, such as, investments in new technologies, which are able to reuse water from soil, or more invested money on the creation of food in laboratories, in this last scenario a vast amount of water could be saved.\n",
      "\n",
      "In addition, global warming has affected significantly this issue, for this reason international cooperation should try to reduce the environment changing to preserve water, avoiding deforestation and pollution, increasing renewable energy.\n",
      "I would suggest teaching and educating children and students to save water in everyday life, these lessons could help them to notice their usage in their private house.\n",
      "\n",
      "In conclusion, I think some solutions could be found to fix the problem; however, we should work all together to make the difference.\n",
      "-----------------------\n",
      "Write new essay under this line and nothing else: \n",
      "-----------------------\n",
      "\n"
     ]
    }
   ],
   "source": [
    "final_prompt1 = PROMT.format(task=task1, essay=essay1)\n",
    "print(final_prompt1)"
   ]
  },
  {
   "cell_type": "code",
   "execution_count": 10,
   "id": "aa65eae1-0928-4bcb-a2d0-6c981ac76267",
   "metadata": {},
   "outputs": [
    {
     "name": "stdout",
     "output_type": "stream",
     "text": [
      "Your task is to:\n",
      "Enhance the essay's clarity, grammar, vocabulary, and sentence structure while preserving the original meaning and ideas.\n",
      "Avoid introducing new arguments or changing the essay’s overall structure or tone.\n",
      "Limit changes to essential improvements—do not rewrite the essay extensively or modify more than necessary.\n",
      "Please provide only the revised essay\n",
      "Topic: Fresh water has always been a limited resource in some parts of the world. Today, however, growing worldwide demand has made this a global problem. What are the causes of the increased demand and what measure could governments and individuals take to respond to this problem?\n",
      "Essay: Fresh water resource is a worldwide issue, that is related to varied factors, and it should be involve every country in the world. This essay will illustrate some reasons of the increasing demand and some solutions to solve as soon as possible.\n",
      "\n",
      "Nowadays, because of industrialization, many European country has resolved this problem because every citizen are able to get drinkable water, but there is a huge difference with the third countries. Although, European people do not miss water, limited water resource is becoming a global emergency that could affect every nation.\n",
      "\n",
      "Firstly, the rising request is related to the overpopulation; that is the reason why Chinese government has tried to reduce and regulate birth, so they have got the power to limit and control the population growth; this is not a reasonable political action to take.\n",
      "\n",
      "Secondly, the overpopulation has caused a growing demand of food, so further water has been used by farmer for agriculture; moreover, not all the farms have an appropriate and modern infrastructures and machines to give water to the soil, consequently a huge amount of this natural resource is wasted.\n",
      "\n",
      "A solution could be taken by local governments, such as, investments in new technologies, which are able to reuse water from soil, or more invested money on the creation of food in laboratories, in this last scenario a vast amount of water could be saved.\n",
      "\n",
      "In addition, global warming has affected significantly this issue, for this reason international cooperation should try to reduce the environment changing to preserve water, avoiding deforestation and pollution, increasing renewable energy.\n",
      "I would suggest teaching and educating children and students to save water in everyday life, these lessons could help them to notice their usage in their private house.\n",
      "\n",
      "In conclusion, I think some solutions could be found to fix the problem; however, we should work all together to make the difference.\n",
      "-----------------------\n",
      "Write new essay under this line and nothing else: \n",
      "-----------------------\n",
      "Fresh water is a limited resource in many parts of the world, and its increasing demand has become a global issue. The reasons behind this growing demand are multifaceted, and addressing this problem requires a concerted effort from governments and individuals alike. This essay will explore the causes of the increased demand for fresh water and propose measures that can be taken to mitigate this issue.\n",
      "\n",
      "The rapid growth of the global population has led to an increase in the demand for fresh water. As a result, many countries, particularly those in Asia and Africa, are facing severe water scarcity. The increasing population puts a strain on the available water resources, leading to a shortage of this essential commodity. Furthermore, the growing demand for food and industry also contributes to the increased demand for fresh water. Farmers require large amounts of water for irrigation, and industrial processes also consume significant quantities of water.\n",
      "\n",
      "Another significant factor contributing to the increased demand for fresh water is the lack of investment in water conservation and management. Many communities lack access to modern water treatment and management systems, leading to water waste and inefficiency. In some cases, communities may not have the resources or expertise to implement effective water conservation measures, resulting in a significant loss of this valuable resource.\n",
      "\n",
      "To address the issue of increased demand for fresh water, governments and individuals can take several measures. One possible solution is to invest in new technologies that can help conserve and reuse water. For example, technologies that can extract water from wastewater or greywater can significantly reduce the demand for fresh water. Additionally, governments can invest in water conservation and management systems, such as efficient irrigation systems and water-saving appliances.\n",
      "\n",
      "Education and awareness are also crucial in addressing the issue of fresh water scarcity. Educating individuals and communities about the importance of water conservation and the consequences of water waste can help reduce the demand for fresh water. Moreover, teaching children and students about water conservation can help instill good habits and promote a culture of water conservation.\n",
      "\n",
      "Finally, international cooperation is essential in addressing the issue of fresh water scarcity. Global warming and climate change are exacerbating the problem, and addressing this issue requires a collective effort. Governments and international organizations can work together to develop and implement policies and programs that promote water conservation and management. Additionally, international cooperation can help share knowledge and expertise in water conservation and management, which can help address the issue of fresh water scarcity.\n",
      "\n",
      "In conclusion, the issue of fresh water scarcity is a complex and multifaceted problem that requires a concerted effort from governments and individuals. By investing in new technologies, investing in water conservation and management systems, educating individuals and communities, and promoting international cooperation, we can help mitigate the issue of fresh water scarcity and ensure a sustainable future for all.\n"
     ]
    }
   ],
   "source": [
    "piperesult1 = pipe(final_prompt1, pad_token_id=pipe.tokenizer.eos_token_id)[0]['generated_text']\n",
    "print(piperesult1)"
   ]
  },
  {
   "cell_type": "code",
   "execution_count": 11,
   "id": "b8406302-bac3-47aa-9f0e-d7adc5b5b23e",
   "metadata": {},
   "outputs": [
    {
     "name": "stdout",
     "output_type": "stream",
     "text": [
      "\n",
      "Fresh water is a limited resource in many parts of the world, and its increasing demand has become a global issue. The reasons behind this growing demand are multifaceted, and addressing this problem requires a concerted effort from governments and individuals alike. This essay will explore the causes of the increased demand for fresh water and propose measures that can be taken to mitigate this issue.\n",
      "\n",
      "The rapid growth of the global population has led to an increase in the demand for fresh water. As a result, many countries, particularly those in Asia and Africa, are facing severe water scarcity. The increasing population puts a strain on the available water resources, leading to a shortage of this essential commodity. Furthermore, the growing demand for food and industry also contributes to the increased demand for fresh water. Farmers require large amounts of water for irrigation, and industrial processes also consume significant quantities of water.\n",
      "\n",
      "Another significant factor contributing to the increased demand for fresh water is the lack of investment in water conservation and management. Many communities lack access to modern water treatment and management systems, leading to water waste and inefficiency. In some cases, communities may not have the resources or expertise to implement effective water conservation measures, resulting in a significant loss of this valuable resource.\n",
      "\n",
      "To address the issue of increased demand for fresh water, governments and individuals can take several measures. One possible solution is to invest in new technologies that can help conserve and reuse water. For example, technologies that can extract water from wastewater or greywater can significantly reduce the demand for fresh water. Additionally, governments can invest in water conservation and management systems, such as efficient irrigation systems and water-saving appliances.\n",
      "\n",
      "Education and awareness are also crucial in addressing the issue of fresh water scarcity. Educating individuals and communities about the importance of water conservation and the consequences of water waste can help reduce the demand for fresh water. Moreover, teaching children and students about water conservation can help instill good habits and promote a culture of water conservation.\n",
      "\n",
      "Finally, international cooperation is essential in addressing the issue of fresh water scarcity. Global warming and climate change are exacerbating the problem, and addressing this issue requires a collective effort. Governments and international organizations can work together to develop and implement policies and programs that promote water conservation and management. Additionally, international cooperation can help share knowledge and expertise in water conservation and management, which can help address the issue of fresh water scarcity.\n",
      "\n",
      "In conclusion, the issue of fresh water scarcity is a complex and multifaceted problem that requires a concerted effort from governments and individuals. By investing in new technologies, investing in water conservation and management systems, educating individuals and communities, and promoting international cooperation, we can help mitigate the issue of fresh water scarcity and ensure a sustainable future for all.\n"
     ]
    }
   ],
   "source": [
    "new_essay1 = piperesult1.split('-----------------------')[-1]\n",
    "print(new_essay1)"
   ]
  },
  {
   "cell_type": "code",
   "execution_count": 12,
   "id": "012ece42-2ec1-4c64-b090-9b02a755ee95",
   "metadata": {},
   "outputs": [
    {
     "data": {
      "text/plain": [
       "tensor([[7.0322]], grad_fn=<AddmmBackward0>)"
      ]
     },
     "execution_count": 12,
     "metadata": {},
     "output_type": "execute_result"
    }
   ],
   "source": [
    "es.score(task1, new_essay1)"
   ]
  },
  {
   "cell_type": "code",
   "execution_count": null,
   "id": "74d121a5-e5db-45a5-8b0f-1709ada1d61b",
   "metadata": {},
   "outputs": [],
   "source": []
  },
  {
   "cell_type": "code",
   "execution_count": 13,
   "id": "9b5825c2-fbfa-41fd-9a27-6f83f06b12a6",
   "metadata": {},
   "outputs": [],
   "source": [
    "task2 = '''\n",
    "Some people think that the increasing use of computers and mobile phones for communication has a negative effect on young people's reading and writing skills.\n",
    "\n",
    "To what extent do you agree or disagree?\n",
    "'''"
   ]
  },
  {
   "cell_type": "code",
   "execution_count": 14,
   "id": "d315c11f-190e-44d5-862e-203d39265876",
   "metadata": {},
   "outputs": [],
   "source": [
    "essay2 = '''\n",
    "Nowadays, our life improved by technology developments. Although some people think that communication through computers and mobile phones increased and has a detrimental effect on how young generation develop their skills in reading and writing, others think that this impact of technology is not a disadvantage. I strongly belive that young people reading and writing skills have suffered due to increasing usage of computers and mobile phones.\n",
    "\n",
    "To begin with, technology  increases day by day and we have to be aware of what is new and implement it on our everyday life. It is certainly known that communication through online platforms it is more easier than the usual one and currently it is vital to have at least one tool like mobile phone or computer if someone wants to have an online conversation with somebody else. A survey was conducted on young subjects in 2007, in the United Kingdom and almost 90% of their respondents agreed with the fact that communication using devices is easier and more effective than using traditional ways and they looked more willing to use a device, like a digital book rather than have similar reading like in the previous generations.\n",
    "\n",
    "To add more, there are many situations which provide that communication using only devices can be deficitary and it involves a lot of disadvantages. First and foremost, young generation can not experience the biggest pleasure of reading a new book, feeling the fragrance of their pages while sitting at the desk. Also, from the primary school, children learn how to effectively write and this situation needs improvement every day, because currently during the classes, many children get distracted and try to avoid what is vital for a society: to know how to correctly write. What is more, it has been proven that writing on a device decrease the rate of concentration in left emisphere of the brain and ought to this issue, many health problems can appear and develop. Nevertheless, technology development is an insurmontable situation that can not be stopped. During the years 2010-2020, a study was made using foreign students from my University and the results shown that those who used devices like mobile phones or computers in order to communicate had a lower rate of learning our mother tongue than others who concentrated on traditional books. Furthermore, a long period of time looking at blue screens affected the visual content and therefore most of them needed to see an Ophtalmologist.\n",
    "\n",
    "To conclude, it is evident that communication is the most striking feature in our everyday life and both traditional and digital paths can be used, but younger generation needs to be aware of the disadvantages of using most of the time only devices like computers and mobile phones, because the drawbacks can outweigh more than the positive effects.\n",
    "'''"
   ]
  },
  {
   "cell_type": "code",
   "execution_count": 15,
   "id": "6d62bc02-c25c-48d2-8e1f-cff06c65a862",
   "metadata": {},
   "outputs": [
    {
     "name": "stdout",
     "output_type": "stream",
     "text": [
      "Your task is to:\n",
      "Enhance the essay's clarity, grammar, vocabulary, and sentence structure while preserving the original meaning and ideas.\n",
      "Avoid introducing new arguments or changing the essay’s overall structure or tone.\n",
      "Limit changes to essential improvements—do not rewrite the essay extensively or modify more than necessary.\n",
      "Please provide only the revised essay\n",
      "Topic: \n",
      "Some people think that the increasing use of computers and mobile phones for communication has a negative effect on young people's reading and writing skills.\n",
      "\n",
      "To what extent do you agree or disagree?\n",
      "\n",
      "Essay: \n",
      "Nowadays, our life improved by technology developments. Although some people think that communication through computers and mobile phones increased and has a detrimental effect on how young generation develop their skills in reading and writing, others think that this impact of technology is not a disadvantage. I strongly belive that young people reading and writing skills have suffered due to increasing usage of computers and mobile phones.\n",
      "\n",
      "To begin with, technology  increases day by day and we have to be aware of what is new and implement it on our everyday life. It is certainly known that communication through online platforms it is more easier than the usual one and currently it is vital to have at least one tool like mobile phone or computer if someone wants to have an online conversation with somebody else. A survey was conducted on young subjects in 2007, in the United Kingdom and almost 90% of their respondents agreed with the fact that communication using devices is easier and more effective than using traditional ways and they looked more willing to use a device, like a digital book rather than have similar reading like in the previous generations.\n",
      "\n",
      "To add more, there are many situations which provide that communication using only devices can be deficitary and it involves a lot of disadvantages. First and foremost, young generation can not experience the biggest pleasure of reading a new book, feeling the fragrance of their pages while sitting at the desk. Also, from the primary school, children learn how to effectively write and this situation needs improvement every day, because currently during the classes, many children get distracted and try to avoid what is vital for a society: to know how to correctly write. What is more, it has been proven that writing on a device decrease the rate of concentration in left emisphere of the brain and ought to this issue, many health problems can appear and develop. Nevertheless, technology development is an insurmontable situation that can not be stopped. During the years 2010-2020, a study was made using foreign students from my University and the results shown that those who used devices like mobile phones or computers in order to communicate had a lower rate of learning our mother tongue than others who concentrated on traditional books. Furthermore, a long period of time looking at blue screens affected the visual content and therefore most of them needed to see an Ophtalmologist.\n",
      "\n",
      "To conclude, it is evident that communication is the most striking feature in our everyday life and both traditional and digital paths can be used, but younger generation needs to be aware of the disadvantages of using most of the time only devices like computers and mobile phones, because the drawbacks can outweigh more than the positive effects.\n",
      "\n",
      "-----------------------\n",
      "Write new essay under this line and nothing else: \n",
      "-----------------------\n",
      "\n"
     ]
    }
   ],
   "source": [
    "final_prompt2 = PROMT.format(task=task2, essay=essay2)\n",
    "print(final_prompt2)"
   ]
  },
  {
   "cell_type": "code",
   "execution_count": 16,
   "id": "ae0911b7-2d63-4dd5-9795-2309d383a04e",
   "metadata": {},
   "outputs": [
    {
     "name": "stdout",
     "output_type": "stream",
     "text": [
      "Your task is to:\n",
      "Enhance the essay's clarity, grammar, vocabulary, and sentence structure while preserving the original meaning and ideas.\n",
      "Avoid introducing new arguments or changing the essay’s overall structure or tone.\n",
      "Limit changes to essential improvements—do not rewrite the essay extensively or modify more than necessary.\n",
      "Please provide only the revised essay\n",
      "Topic: \n",
      "Some people think that the increasing use of computers and mobile phones for communication has a negative effect on young people's reading and writing skills.\n",
      "\n",
      "To what extent do you agree or disagree?\n",
      "\n",
      "Essay: \n",
      "Nowadays, our life improved by technology developments. Although some people think that communication through computers and mobile phones increased and has a detrimental effect on how young generation develop their skills in reading and writing, others think that this impact of technology is not a disadvantage. I strongly belive that young people reading and writing skills have suffered due to increasing usage of computers and mobile phones.\n",
      "\n",
      "To begin with, technology  increases day by day and we have to be aware of what is new and implement it on our everyday life. It is certainly known that communication through online platforms it is more easier than the usual one and currently it is vital to have at least one tool like mobile phone or computer if someone wants to have an online conversation with somebody else. A survey was conducted on young subjects in 2007, in the United Kingdom and almost 90% of their respondents agreed with the fact that communication using devices is easier and more effective than using traditional ways and they looked more willing to use a device, like a digital book rather than have similar reading like in the previous generations.\n",
      "\n",
      "To add more, there are many situations which provide that communication using only devices can be deficitary and it involves a lot of disadvantages. First and foremost, young generation can not experience the biggest pleasure of reading a new book, feeling the fragrance of their pages while sitting at the desk. Also, from the primary school, children learn how to effectively write and this situation needs improvement every day, because currently during the classes, many children get distracted and try to avoid what is vital for a society: to know how to correctly write. What is more, it has been proven that writing on a device decrease the rate of concentration in left emisphere of the brain and ought to this issue, many health problems can appear and develop. Nevertheless, technology development is an insurmontable situation that can not be stopped. During the years 2010-2020, a study was made using foreign students from my University and the results shown that those who used devices like mobile phones or computers in order to communicate had a lower rate of learning our mother tongue than others who concentrated on traditional books. Furthermore, a long period of time looking at blue screens affected the visual content and therefore most of them needed to see an Ophtalmologist.\n",
      "\n",
      "To conclude, it is evident that communication is the most striking feature in our everyday life and both traditional and digital paths can be used, but younger generation needs to be aware of the disadvantages of using most of the time only devices like computers and mobile phones, because the drawbacks can outweigh more than the positive effects.\n",
      "\n",
      "-----------------------\n",
      "Write new essay under this line and nothing else: \n",
      "-----------------------\n",
      "In my opinion, the increasing use of computers and mobile phones for communication has a profoundly negative impact on young people's reading and writing skills. While some may argue that technology has improved communication, I firmly believe that the benefits of traditional methods far outweigh the advantages of digital communication.\n",
      "\n",
      "Firstly, the rise of digital communication has led to a decline in face-to-face interactions, which are essential for developing reading and writing skills. In the past, people would engage in conversations, debates, and discussions, which helped to improve their language skills. However, with the increasing use of computers and mobile phones, people are spending more time interacting with screens than with each other. This has resulted in a decline in the ability to read and write effectively, as well as a decrease in the ability to think critically and express oneself in writing.\n",
      "\n",
      "Secondly, the use of digital devices for communication has also led to a decrease in the quality of writing. When people write on digital devices, they often rely on auto-correct and spell-check features, which can lead to a lack of attention to detail and a decrease in the quality of writing. Moreover, the use of digital devices can also lead to a decrease in the ability to think critically and express oneself in writing, as people are often limited to using pre-written phrases and sentences.\n",
      "\n",
      "Thirdly, the use of digital devices for communication has also had a negative impact on the development of reading skills. With the rise of digital media, people are spending more time watching videos and listening to podcasts than reading books. This has resulted in a decline in the ability to read and understand complex texts, as well as a decrease in the ability to think critically and analyze information.\n",
      "\n",
      "In conclusion, while some may argue that technology has improved communication, I firmly believe that the negative impact of digital communication on young people's reading and writing skills cannot be ignored. The benefits of traditional methods, such as face-to-face interactions and writing on paper, far outweigh the advantages of digital communication. It is essential for young people to be aware of the drawbacks of digital communication and to make a conscious effort to use traditional methods to improve their reading and writing skills.\n"
     ]
    }
   ],
   "source": [
    "piperesult2 = pipe(final_prompt2, pad_token_id=pipe.tokenizer.eos_token_id)[0]['generated_text']\n",
    "print(piperesult2)"
   ]
  },
  {
   "cell_type": "code",
   "execution_count": 17,
   "id": "350f91b7-d01e-4705-8f68-afc77ad9fef0",
   "metadata": {},
   "outputs": [
    {
     "name": "stdout",
     "output_type": "stream",
     "text": [
      "\n",
      "In my opinion, the increasing use of computers and mobile phones for communication has a profoundly negative impact on young people's reading and writing skills. While some may argue that technology has improved communication, I firmly believe that the benefits of traditional methods far outweigh the advantages of digital communication.\n",
      "\n",
      "Firstly, the rise of digital communication has led to a decline in face-to-face interactions, which are essential for developing reading and writing skills. In the past, people would engage in conversations, debates, and discussions, which helped to improve their language skills. However, with the increasing use of computers and mobile phones, people are spending more time interacting with screens than with each other. This has resulted in a decline in the ability to read and write effectively, as well as a decrease in the ability to think critically and express oneself in writing.\n",
      "\n",
      "Secondly, the use of digital devices for communication has also led to a decrease in the quality of writing. When people write on digital devices, they often rely on auto-correct and spell-check features, which can lead to a lack of attention to detail and a decrease in the quality of writing. Moreover, the use of digital devices can also lead to a decrease in the ability to think critically and express oneself in writing, as people are often limited to using pre-written phrases and sentences.\n",
      "\n",
      "Thirdly, the use of digital devices for communication has also had a negative impact on the development of reading skills. With the rise of digital media, people are spending more time watching videos and listening to podcasts than reading books. This has resulted in a decline in the ability to read and understand complex texts, as well as a decrease in the ability to think critically and analyze information.\n",
      "\n",
      "In conclusion, while some may argue that technology has improved communication, I firmly believe that the negative impact of digital communication on young people's reading and writing skills cannot be ignored. The benefits of traditional methods, such as face-to-face interactions and writing on paper, far outweigh the advantages of digital communication. It is essential for young people to be aware of the drawbacks of digital communication and to make a conscious effort to use traditional methods to improve their reading and writing skills.\n"
     ]
    }
   ],
   "source": [
    "new_essay2 = piperesult2.split('-----------------------')[-1]\n",
    "print(new_essay2)"
   ]
  },
  {
   "cell_type": "code",
   "execution_count": 18,
   "id": "420815e4-6199-4052-8902-f60441513785",
   "metadata": {},
   "outputs": [
    {
     "data": {
      "text/plain": [
       "tensor([[5.2816]], grad_fn=<AddmmBackward0>)"
      ]
     },
     "execution_count": 18,
     "metadata": {},
     "output_type": "execute_result"
    }
   ],
   "source": [
    "# band 6\n",
    "es.score(task2, essay2)"
   ]
  },
  {
   "cell_type": "code",
   "execution_count": 19,
   "id": "e8d64a16-81c6-492d-b3c6-3d44596be795",
   "metadata": {},
   "outputs": [
    {
     "data": {
      "text/plain": [
       "tensor([[3.0302]], grad_fn=<AddmmBackward0>)"
      ]
     },
     "execution_count": 19,
     "metadata": {},
     "output_type": "execute_result"
    }
   ],
   "source": [
    "es.score(task2, new_essay2)"
   ]
  },
  {
   "cell_type": "code",
   "execution_count": null,
   "id": "72e479f0-3b3b-4cb5-afa9-d314158be8d6",
   "metadata": {},
   "outputs": [],
   "source": []
  },
  {
   "cell_type": "code",
   "execution_count": 20,
   "id": "76be2714-b394-445a-9888-d7b819010bff",
   "metadata": {},
   "outputs": [],
   "source": [
    "task3 = '''\n",
    "Many people argue that museums and art galleries should present the nation’s art, as opposed to artworks from other countries. To what extent do you agree or disagree?\n",
    "'''"
   ]
  },
  {
   "cell_type": "code",
   "execution_count": 21,
   "id": "03439337-7add-4c3b-b2b1-0abc30d3620f",
   "metadata": {},
   "outputs": [],
   "source": [
    "essay3 = '''\n",
    "The cultural value of engaging with museums and art galleries is unquestionable; they exert a great deal of influence on our perception of the world. It is only reasonable to ponder whether or not these outlets of culture should concentrate their efforts on presenting the nation’s own art, and not that of other countries. In my opinion, there should be an attempt to strike a balance and put the objects of national art in the spotlight, while allowing the public to get acquainted with foreign artworks to a certain extent.\n",
    "\n",
    "If people were to only find sculptures and paintings by national artists in their local museums, that would have a number of positive effects, such as the fame the artists of that country would gain and the pride its citizens would feel for their fellow countrymen. It would promote patriotism and strengthen the image of the country in the eyes of its inhabitants. Local artists would also receive more financial assistance from the government as their works would generate a significant amount of interest, potentially resulting in further development of the local art. However, in order to evolve art needs fresh ideas, and without exposure to a wider range of creativity the world provides, the evolution of local arts may be hindered.\n",
    "\n",
    "People enjoy art because it appeals to their inner sense of beauty and triggers strong emotions, and whether the masterpiece that causes these feelings belongs to a local or foreign artist is irrelevant. Talent knows no geographical boundaries; therefore, the emphasis should be on how much joy or amazement the work of art brings, rather than on its origin. If that principle were to be followed, we would never have to choose between local and international art. Reducing our museums or galleries’ collections to local art works, in my view, would be harmful and go against the democratic nature of art.\n",
    "\n",
    "To sum up, it seems to me that a country has nothing to lose by allowing its people to admire art created elsewhere in the world. A conscious choice by the government to support local artists while hosting exhibitions from other countries could prove the most beneficial.\n",
    "'''"
   ]
  },
  {
   "cell_type": "code",
   "execution_count": 22,
   "id": "6a6ed95a-5f18-4dc9-bb63-fd4d54a7a72f",
   "metadata": {},
   "outputs": [
    {
     "name": "stdout",
     "output_type": "stream",
     "text": [
      "Your task is to:\n",
      "Enhance the essay's clarity, grammar, vocabulary, and sentence structure while preserving the original meaning and ideas.\n",
      "Avoid introducing new arguments or changing the essay’s overall structure or tone.\n",
      "Limit changes to essential improvements—do not rewrite the essay extensively or modify more than necessary.\n",
      "Please provide only the revised essay\n",
      "Topic: \n",
      "Many people argue that museums and art galleries should present the nation’s art, as opposed to artworks from other countries. To what extent do you agree or disagree?\n",
      "\n",
      "Essay: \n",
      "The cultural value of engaging with museums and art galleries is unquestionable; they exert a great deal of influence on our perception of the world. It is only reasonable to ponder whether or not these outlets of culture should concentrate their efforts on presenting the nation’s own art, and not that of other countries. In my opinion, there should be an attempt to strike a balance and put the objects of national art in the spotlight, while allowing the public to get acquainted with foreign artworks to a certain extent.\n",
      "\n",
      "If people were to only find sculptures and paintings by national artists in their local museums, that would have a number of positive effects, such as the fame the artists of that country would gain and the pride its citizens would feel for their fellow countrymen. It would promote patriotism and strengthen the image of the country in the eyes of its inhabitants. Local artists would also receive more financial assistance from the government as their works would generate a significant amount of interest, potentially resulting in further development of the local art. However, in order to evolve art needs fresh ideas, and without exposure to a wider range of creativity the world provides, the evolution of local arts may be hindered.\n",
      "\n",
      "People enjoy art because it appeals to their inner sense of beauty and triggers strong emotions, and whether the masterpiece that causes these feelings belongs to a local or foreign artist is irrelevant. Talent knows no geographical boundaries; therefore, the emphasis should be on how much joy or amazement the work of art brings, rather than on its origin. If that principle were to be followed, we would never have to choose between local and international art. Reducing our museums or galleries’ collections to local art works, in my view, would be harmful and go against the democratic nature of art.\n",
      "\n",
      "To sum up, it seems to me that a country has nothing to lose by allowing its people to admire art created elsewhere in the world. A conscious choice by the government to support local artists while hosting exhibitions from other countries could prove the most beneficial.\n",
      "\n",
      "-----------------------\n",
      "Write new essay under this line and nothing else: \n",
      "-----------------------\n",
      "\n"
     ]
    }
   ],
   "source": [
    "final_prompt3 = PROMT.format(task=task3, essay=essay3)\n",
    "print(final_prompt3)"
   ]
  },
  {
   "cell_type": "code",
   "execution_count": 36,
   "id": "77997ef5-01e9-4ab0-a63e-309c03ebc30f",
   "metadata": {},
   "outputs": [
    {
     "name": "stdout",
     "output_type": "stream",
     "text": [
      "Your task is to:\n",
      "Enhance the essay's clarity, grammar, vocabulary, and sentence structure while preserving the original meaning and ideas.\n",
      "Avoid introducing new arguments or changing the essay’s overall structure or tone.\n",
      "Limit changes to essential improvements—do not rewrite the essay extensively or modify more than necessary.\n",
      "Please provide only the revised essay\n",
      "Topic: \n",
      "Many people argue that museums and art galleries should present the nation’s art, as opposed to artworks from other countries. To what extent do you agree or disagree?\n",
      "\n",
      "Essay: \n",
      "The cultural value of engaging with museums and art galleries is unquestionable; they exert a great deal of influence on our perception of the world. It is only reasonable to ponder whether or not these outlets of culture should concentrate their efforts on presenting the nation’s own art, and not that of other countries. In my opinion, there should be an attempt to strike a balance and put the objects of national art in the spotlight, while allowing the public to get acquainted with foreign artworks to a certain extent.\n",
      "\n",
      "If people were to only find sculptures and paintings by national artists in their local museums, that would have a number of positive effects, such as the fame the artists of that country would gain and the pride its citizens would feel for their fellow countrymen. It would promote patriotism and strengthen the image of the country in the eyes of its inhabitants. Local artists would also receive more financial assistance from the government as their works would generate a significant amount of interest, potentially resulting in further development of the local art. However, in order to evolve art needs fresh ideas, and without exposure to a wider range of creativity the world provides, the evolution of local arts may be hindered.\n",
      "\n",
      "People enjoy art because it appeals to their inner sense of beauty and triggers strong emotions, and whether the masterpiece that causes these feelings belongs to a local or foreign artist is irrelevant. Talent knows no geographical boundaries; therefore, the emphasis should be on how much joy or amazement the work of art brings, rather than on its origin. If that principle were to be followed, we would never have to choose between local and international art. Reducing our museums or galleries’ collections to local art works, in my view, would be harmful and go against the democratic nature of art.\n",
      "\n",
      "To sum up, it seems to me that a country has nothing to lose by allowing its people to admire art created elsewhere in the world. A conscious choice by the government to support local artists while hosting exhibitions from other countries could prove the most beneficial.\n",
      "\n",
      "-----------------------\n",
      "Write new essay under this line and nothing else: \n",
      "-----------------------\n",
      "While museums and art galleries have a significant role in promoting and preserving the nation's artistic heritage, the idea that they should exclusively showcase the country's art is a narrow and limiting perspective. By presenting a diverse range of artworks from around the world, these institutions can foster a more inclusive and nuanced understanding of art and its cultural significance. Moreover, allowing foreign artists to be showcased can bring fresh perspectives and ideas, which can ultimately enrich the local art scene.\n",
      "\n",
      "On the other hand, some argue that featuring only national art can have positive effects, such as promoting patriotism and boosting the local art market. For instance, local artists may receive increased recognition and financial support, which can lead to further development of the art community. However, this approach can also lead to a lack of diversity and a narrow focus on nationalistic sentiments, which may not be representative of the broader cultural landscape.\n",
      "\n",
      "Ultimately, a balanced approach that showcases both local and international art can be the most beneficial. By providing a platform for diverse artists and artworks, museums and galleries can promote cross-cultural understanding, challenge traditional notions of art, and foster a more inclusive and vibrant art scene. This approach also acknowledges the value of foreign art in enriching the local culture and providing new ideas and inspiration for local artists. By embracing diversity and promoting a broader understanding of art, museums and galleries can play a more significant role in shaping the cultural identity of a nation.\n"
     ]
    }
   ],
   "source": [
    "piperesult3 = pipe(final_prompt3, pad_token_id=pipe.tokenizer.eos_token_id)[0]['generated_text']\n",
    "print(piperesult3)"
   ]
  },
  {
   "cell_type": "code",
   "execution_count": 37,
   "id": "ff683002-71ec-4602-ac64-3ce3d1b91e85",
   "metadata": {},
   "outputs": [
    {
     "name": "stdout",
     "output_type": "stream",
     "text": [
      "\n",
      "While museums and art galleries have a significant role in promoting and preserving the nation's artistic heritage, the idea that they should exclusively showcase the country's art is a narrow and limiting perspective. By presenting a diverse range of artworks from around the world, these institutions can foster a more inclusive and nuanced understanding of art and its cultural significance. Moreover, allowing foreign artists to be showcased can bring fresh perspectives and ideas, which can ultimately enrich the local art scene.\n",
      "\n",
      "On the other hand, some argue that featuring only national art can have positive effects, such as promoting patriotism and boosting the local art market. For instance, local artists may receive increased recognition and financial support, which can lead to further development of the art community. However, this approach can also lead to a lack of diversity and a narrow focus on nationalistic sentiments, which may not be representative of the broader cultural landscape.\n",
      "\n",
      "Ultimately, a balanced approach that showcases both local and international art can be the most beneficial. By providing a platform for diverse artists and artworks, museums and galleries can promote cross-cultural understanding, challenge traditional notions of art, and foster a more inclusive and vibrant art scene. This approach also acknowledges the value of foreign art in enriching the local culture and providing new ideas and inspiration for local artists. By embracing diversity and promoting a broader understanding of art, museums and galleries can play a more significant role in shaping the cultural identity of a nation.\n"
     ]
    }
   ],
   "source": [
    "new_essay3 = piperesult3.split('-----------------------')[-1]\n",
    "print(new_essay3)"
   ]
  },
  {
   "cell_type": "code",
   "execution_count": 38,
   "id": "30b3a570-20fc-4aea-a61e-74750c1a91e2",
   "metadata": {},
   "outputs": [
    {
     "data": {
      "text/plain": [
       "tensor([[8.6477]], grad_fn=<AddmmBackward0>)"
      ]
     },
     "execution_count": 38,
     "metadata": {},
     "output_type": "execute_result"
    }
   ],
   "source": [
    "# band 8 or band 8.5\n",
    "es.score(task3, essay3)"
   ]
  },
  {
   "cell_type": "code",
   "execution_count": 39,
   "id": "bc37482b-71a9-401c-b3a0-e4c7344e4a03",
   "metadata": {},
   "outputs": [
    {
     "data": {
      "text/plain": [
       "tensor([[6.2544]], grad_fn=<AddmmBackward0>)"
      ]
     },
     "execution_count": 39,
     "metadata": {},
     "output_type": "execute_result"
    }
   ],
   "source": [
    "# band 8 or band 8.5\n",
    "es.score(task3, new_essay3)"
   ]
  },
  {
   "cell_type": "code",
   "execution_count": null,
   "id": "eae058b4-ab2e-487b-ad06-2cb779ebae1e",
   "metadata": {},
   "outputs": [],
   "source": []
  },
  {
   "cell_type": "code",
   "execution_count": 45,
   "id": "c0243be3-ca2b-40f3-b006-c8ba4b6e43d7",
   "metadata": {},
   "outputs": [],
   "source": [
    "piperesult_merged = pipe([final_prompt1, final_prompt2, final_prompt3], pad_token_id=pipe.tokenizer.eos_token_id)"
   ]
  },
  {
   "cell_type": "code",
   "execution_count": 48,
   "id": "e0120d88-2323-4a97-8712-eb71dc06734f",
   "metadata": {},
   "outputs": [
    {
     "name": "stdout",
     "output_type": "stream",
     "text": [
      "3\n",
      "[{'generated_text': \"Your task is to:\\nEnhance the essay's clarity, grammar, vocabulary, and sentence structure while preserving the original meaning and ideas.\\nAvoid introducing new arguments or changing the essay’s overall structure or tone.\\nLimit changes to essential improvements—do not rewrite the essay extensively or modify more than necessary.\\nPlease provide only the revised essay\\nTopic: Fresh water has always been a limited resource in some parts of the world. Today, however, growing worldwide demand has made this a global problem. What are the causes of the increased demand and what measure could governments and individuals take to respond to this problem?\\nEssay: Fresh water resource is a worldwide issue, that is related to varied factors, and it should be involve every country in the world. This essay will illustrate some reasons of the increasing demand and some solutions to solve as soon as possible.\\n\\nNowadays, because of industrialization, many European country has resolved this problem because every citizen are able to get drinkable water, but there is a huge difference with the third countries. Although, European people do not miss water, limited water resource is becoming a global emergency that could affect every nation.\\n\\nFirstly, the rising request is related to the overpopulation; that is the reason why Chinese government has tried to reduce and regulate birth, so they have got the power to limit and control the population growth; this is not a reasonable political action to take.\\n\\nSecondly, the overpopulation has caused a growing demand of food, so further water has been used by farmer for agriculture; moreover, not all the farms have an appropriate and modern infrastructures and machines to give water to the soil, consequently a huge amount of this natural resource is wasted.\\n\\nA solution could be taken by local governments, such as, investments in new technologies, which are able to reuse water from soil, or more invested money on the creation of food in laboratories, in this last scenario a vast amount of water could be saved.\\n\\nIn addition, global warming has affected significantly this issue, for this reason international cooperation should try to reduce the environment changing to preserve water, avoiding deforestation and pollution, increasing renewable energy.\\nI would suggest teaching and educating children and students to save water in everyday life, these lessons could help them to notice their usage in their private house.\\n\\nIn conclusion, I think some solutions could be found to fix the problem; however, we should work all together to make the difference.\\n-----------------------\\nWrite new essay under this line and nothing else: \\n-----------------------\\nFresh water is a limited resource in some parts of the world, becoming a global problem due to growing worldwide demand. This essay will discuss the causes of the increased demand and propose solutions to address this issue.\\n\\nThe overpopulation of the world's population is one of the primary reasons for the rising demand for fresh water. With the increasing population, the demand for food and other essential resources also rises, leading to a greater need for water. Governments and individuals can take measures to address this issue, such as investing in new technologies that can reuse water from soil and agricultural waste.\\n\\nAnother significant factor contributing to the increased demand for fresh water is the growing use of water for industrial and agricultural purposes. The lack of modern infrastructure and machines in many farms leads to significant water waste, resulting in a substantial loss of this precious resource. To address this issue, governments can invest in creating food in laboratories, which would reduce the need for water in agriculture.\\n\\nGlobal warming also poses a significant threat to the availability of fresh water. Rising temperatures and changing weather patterns lead to droughts and water scarcity, exacerbating the issue. International cooperation is essential to address this problem, and governments and individuals can work together to reduce environmental degradation, avoid deforestation, and increase the use of renewable energy.\\n\\nIn addition to these measures, educating children and students about the importance of water conservation is crucial. By teaching them how to save water in their daily lives, we can encourage them to adopt sustainable practices and reduce their water usage. This can have a significant impact when combined with other measures to address the global water crisis.\\n\\nIn conclusion, addressing the global water crisis requires a multi-faceted approach that involves governments, individuals, and international cooperation. By investing in new technologies, creating food in laboratories, reducing environmental degradation, and educating children and students about water conservation, we can work towards finding solutions to this pressing issue.\"}]\n"
     ]
    }
   ],
   "source": [
    "print(len(piperesult_merged))\n",
    "print(piperesult_merged[0])"
   ]
  },
  {
   "cell_type": "code",
   "execution_count": null,
   "id": "406134b3-23ba-4477-ab5c-c286cab2cd3a",
   "metadata": {},
   "outputs": [],
   "source": []
  }
 ],
 "metadata": {
  "kernelspec": {
   "display_name": "gpu_server_env",
   "language": "python",
   "name": "gpu_server_env"
  },
  "language_info": {
   "codemirror_mode": {
    "name": "ipython",
    "version": 3
   },
   "file_extension": ".py",
   "mimetype": "text/x-python",
   "name": "python",
   "nbconvert_exporter": "python",
   "pygments_lexer": "ipython3",
   "version": "3.13.0"
  }
 },
 "nbformat": 4,
 "nbformat_minor": 5
}
