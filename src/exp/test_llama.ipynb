{
 "cells": [
  {
   "cell_type": "code",
   "execution_count": 1,
   "id": "6ef0e451-5bbf-45e5-842e-57578a8cc558",
   "metadata": {},
   "outputs": [],
   "source": [
    "import numpy as np\n",
    "import pandas as pd\n",
    "from tqdm import tqdm\n",
    "import matplotlib.pyplot as plt\n",
    "from numpy import dtype"
   ]
  },
  {
   "cell_type": "code",
   "execution_count": 2,
   "id": "d3bda346-efe1-4012-8d40-b1bb6a9c7ca6",
   "metadata": {},
   "outputs": [],
   "source": [
    "import sys\n",
    "sys.path.append(\"../\")\n",
    "\n",
    "from essay_scorer import EssayScorer"
   ]
  },
  {
   "cell_type": "code",
   "execution_count": 3,
   "id": "81debd80-ba89-4091-a6b3-ff05b30a3162",
   "metadata": {},
   "outputs": [],
   "source": [
    "es = EssayScorer.load('../head_model')"
   ]
  },
  {
   "cell_type": "code",
   "execution_count": 4,
   "id": "6c66091f-60df-4632-88f8-3d32f214aa05",
   "metadata": {},
   "outputs": [],
   "source": [
    "task = 'Fresh water has always been a limited resource in some parts of the world. Today, however, growing worldwide demand has made this a global problem. What are the causes of the increased demand and what measure could governments and individuals take to respond to this problem?'"
   ]
  },
  {
   "cell_type": "code",
   "execution_count": 5,
   "id": "1568a4a0-42c6-42bd-8132-f9191596d1d1",
   "metadata": {},
   "outputs": [],
   "source": [
    "essay = '''Fresh water resource is a worldwide issue, that is related to varied factors, and it should be involve every country in the world. This essay will illustrate some reasons of the increasing demand and some solutions to solve as soon as possible.\n",
    "\n",
    "Nowadays, because of industrialization, many European country has resolved this problem because every citizen are able to get drinkable water, but there is a huge difference with the third countries. Although, European people do not miss water, limited water resource is becoming a global emergency that could affect every nation.\n",
    "\n",
    "Firstly, the rising request is related to the overpopulation; that is the reason why Chinese government has tried to reduce and regulate birth, so they have got the power to limit and control the population growth; this is not a reasonable political action to take.\n",
    "\n",
    "Secondly, the overpopulation has caused a growing demand of food, so further water has been used by farmer for agriculture; moreover, not all the farms have an appropriate and modern infrastructures and machines to give water to the soil, consequently a huge amount of this natural resource is wasted.\n",
    "\n",
    "A solution could be taken by local governments, such as, investments in new technologies, which are able to reuse water from soil, or more invested money on the creation of food in laboratories, in this last scenario a vast amount of water could be saved.\n",
    "\n",
    "In addition, global warming has affected significantly this issue, for this reason international cooperation should try to reduce the environment changing to preserve water, avoiding deforestation and pollution, increasing renewable energy.\n",
    "I would suggest teaching and educating children and students to save water in everyday life, these lessons could help them to notice their usage in their private house.\n",
    "\n",
    "In conclusion, I think some solutions could be found to fix the problem; however, we should work all together to make the difference.'''"
   ]
  },
  {
   "cell_type": "code",
   "execution_count": 6,
   "id": "29d67053-e843-4e28-b6fd-e6a3fc61fc6b",
   "metadata": {},
   "outputs": [
    {
     "name": "stderr",
     "output_type": "stream",
     "text": [
      "/home/ubuntu/sync_dir/src/exp/../essay_scorer.py:175: UserWarning: Creating a tensor from a list of numpy.ndarrays is extremely slow. Please consider converting the list to a single numpy.ndarray with numpy.array() before converting to a tensor. (Triggered internally at /home/conda/feedstock_root/build_artifacts/libtorch_1730833640211/work/torch/csrc/utils/tensor_new.cpp:278.)\n",
      "  return self.essay_scorer_head_model(torch.FloatTensor([embedding]))\n"
     ]
    },
    {
     "data": {
      "text/plain": [
       "tensor([[5.8518]], grad_fn=<AddmmBackward0>)"
      ]
     },
     "execution_count": 6,
     "metadata": {},
     "output_type": "execute_result"
    }
   ],
   "source": [
    "# band 6\n",
    "es.score(task, essay)"
   ]
  },
  {
   "cell_type": "code",
   "execution_count": 18,
   "id": "95f36078-b593-436b-8004-86458c51a325",
   "metadata": {},
   "outputs": [
    {
     "data": {
      "application/vnd.jupyter.widget-view+json": {
       "model_id": "60348cea46024020b7326da1cb69024a",
       "version_major": 2,
       "version_minor": 0
      },
      "text/plain": [
       "Loading checkpoint shards:   0%|          | 0/2 [00:00<?, ?it/s]"
      ]
     },
     "metadata": {},
     "output_type": "display_data"
    }
   ],
   "source": [
    "import torch\n",
    "\n",
    "from transformers import pipeline\n",
    "from transformers import AutoModelForCausalLM, AutoTokenizer\n",
    "\n",
    "model_id = \"meta-llama/Llama-3.2-3B-Instruct\"\n",
    "\n",
    "tokenizer = AutoTokenizer.from_pretrained(model_id, padding_side=\"left\")\n",
    "\n",
    "pipe = pipeline(\n",
    "    \"text-generation\", \n",
    "    model=model_id, \n",
    "    torch_dtype=torch.bfloat16, \n",
    "    device_map=\"auto\",\n",
    "    max_new_tokens=500,\n",
    "    pad_token_id = tokenizer.eos_token_id\n",
    ")\n",
    "\n",
    "# pipe(\"Just answer for 1 question with single word. What is the capital of US? Answer - \")\n"
   ]
  },
  {
   "cell_type": "code",
   "execution_count": 22,
   "id": "07ac717c-1341-4cc6-b2ea-b687551395ae",
   "metadata": {},
   "outputs": [],
   "source": [
    "PROMT = (\n",
    "    'Your task is to:\\n' +\n",
    "\n",
    "    'Enhance the essay\\'s clarity, grammar, vocabulary, and sentence structure while preserving the original meaning and ideas.\\n' +\n",
    "    'Avoid introducing new arguments or changing the essay’s overall structure or tone.\\n' +\n",
    "    'Limit changes to essential improvements—do not rewrite the essay extensively or modify more than necessary.\\n' +\n",
    "    'Please provide only the revised essay\\n' +\n",
    "\n",
    "    'Topic: {task}\\n' +\n",
    "    'Essay: {essay}\\n' +\n",
    "\n",
    "    '-----------------------\\n'\n",
    "    'Write new essay under this line and nothing else: \\n'\n",
    "    '-----------------------\\n'\n",
    ")"
   ]
  },
  {
   "cell_type": "code",
   "execution_count": 23,
   "id": "f08e346c-0608-4dda-9334-645e1e4fd8ac",
   "metadata": {},
   "outputs": [
    {
     "name": "stdout",
     "output_type": "stream",
     "text": [
      "Your task is to:\n",
      "Enhance the essay's clarity, grammar, vocabulary, and sentence structure while preserving the original meaning and ideas.\n",
      "Avoid introducing new arguments or changing the essay’s overall structure or tone.\n",
      "Limit changes to essential improvements—do not rewrite the essay extensively or modify more than necessary.\n",
      "Please provide only the revised essay\n",
      "Topic: Fresh water has always been a limited resource in some parts of the world. Today, however, growing worldwide demand has made this a global problem. What are the causes of the increased demand and what measure could governments and individuals take to respond to this problem?\n",
      "Essay: Fresh water resource is a worldwide issue, that is related to varied factors, and it should be involve every country in the world. This essay will illustrate some reasons of the increasing demand and some solutions to solve as soon as possible.\n",
      "\n",
      "Nowadays, because of industrialization, many European country has resolved this problem because every citizen are able to get drinkable water, but there is a huge difference with the third countries. Although, European people do not miss water, limited water resource is becoming a global emergency that could affect every nation.\n",
      "\n",
      "Firstly, the rising request is related to the overpopulation; that is the reason why Chinese government has tried to reduce and regulate birth, so they have got the power to limit and control the population growth; this is not a reasonable political action to take.\n",
      "\n",
      "Secondly, the overpopulation has caused a growing demand of food, so further water has been used by farmer for agriculture; moreover, not all the farms have an appropriate and modern infrastructures and machines to give water to the soil, consequently a huge amount of this natural resource is wasted.\n",
      "\n",
      "A solution could be taken by local governments, such as, investments in new technologies, which are able to reuse water from soil, or more invested money on the creation of food in laboratories, in this last scenario a vast amount of water could be saved.\n",
      "\n",
      "In addition, global warming has affected significantly this issue, for this reason international cooperation should try to reduce the environment changing to preserve water, avoiding deforestation and pollution, increasing renewable energy.\n",
      "I would suggest teaching and educating children and students to save water in everyday life, these lessons could help them to notice their usage in their private house.\n",
      "\n",
      "In conclusion, I think some solutions could be found to fix the problem; however, we should work all together to make the difference.\n",
      "-----------------------\n",
      "Write new essay under this line and nothing else: \n",
      "-----------------------\n",
      "\n"
     ]
    }
   ],
   "source": [
    "final_prompt = PROMT.format(task=task, essay=essay)\n",
    "print(final_prompt)"
   ]
  },
  {
   "cell_type": "code",
   "execution_count": 26,
   "id": "aa65eae1-0928-4bcb-a2d0-6c981ac76267",
   "metadata": {},
   "outputs": [],
   "source": [
    "piperesult = pipe(final_prompt, pad_token_id=pipe.tokenizer.eos_token_id)[0]['generated_text']"
   ]
  },
  {
   "cell_type": "code",
   "execution_count": 27,
   "id": "443580f4-3aa7-4d14-accb-b4380492f0d8",
   "metadata": {},
   "outputs": [
    {
     "name": "stdout",
     "output_type": "stream",
     "text": [
      "Your task is to:\n",
      "Enhance the essay's clarity, grammar, vocabulary, and sentence structure while preserving the original meaning and ideas.\n",
      "Avoid introducing new arguments or changing the essay’s overall structure or tone.\n",
      "Limit changes to essential improvements—do not rewrite the essay extensively or modify more than necessary.\n",
      "Please provide only the revised essay\n",
      "Topic: Fresh water has always been a limited resource in some parts of the world. Today, however, growing worldwide demand has made this a global problem. What are the causes of the increased demand and what measure could governments and individuals take to respond to this problem?\n",
      "Essay: Fresh water resource is a worldwide issue, that is related to varied factors, and it should be involve every country in the world. This essay will illustrate some reasons of the increasing demand and some solutions to solve as soon as possible.\n",
      "\n",
      "Nowadays, because of industrialization, many European country has resolved this problem because every citizen are able to get drinkable water, but there is a huge difference with the third countries. Although, European people do not miss water, limited water resource is becoming a global emergency that could affect every nation.\n",
      "\n",
      "Firstly, the rising request is related to the overpopulation; that is the reason why Chinese government has tried to reduce and regulate birth, so they have got the power to limit and control the population growth; this is not a reasonable political action to take.\n",
      "\n",
      "Secondly, the overpopulation has caused a growing demand of food, so further water has been used by farmer for agriculture; moreover, not all the farms have an appropriate and modern infrastructures and machines to give water to the soil, consequently a huge amount of this natural resource is wasted.\n",
      "\n",
      "A solution could be taken by local governments, such as, investments in new technologies, which are able to reuse water from soil, or more invested money on the creation of food in laboratories, in this last scenario a vast amount of water could be saved.\n",
      "\n",
      "In addition, global warming has affected significantly this issue, for this reason international cooperation should try to reduce the environment changing to preserve water, avoiding deforestation and pollution, increasing renewable energy.\n",
      "I would suggest teaching and educating children and students to save water in everyday life, these lessons could help them to notice their usage in their private house.\n",
      "\n",
      "In conclusion, I think some solutions could be found to fix the problem; however, we should work all together to make the difference.\n",
      "-----------------------\n",
      "Write new essay under this line and nothing else: \n",
      "-----------------------\n",
      "Fresh water is a limited resource that has always been a concern in many parts of the world. The increasing global demand for this essential resource has made it a pressing global issue. In this essay, we will explore the causes of the rising demand and discuss potential measures that governments and individuals can take to address this problem.\n",
      "\n",
      "One of the primary causes of the increased demand for fresh water is overpopulation. As the global population grows, so does the need for water, leading to a significant strain on existing resources. In response, some governments, such as China, have implemented policies to regulate population growth, in an effort to manage the demand for water. However, this approach raises concerns about human rights and the impact on economic development.\n",
      "\n",
      "Another significant factor contributing to the rising demand for fresh water is the increasing use of water for agriculture. As the global population grows, so does the demand for food, leading to a corresponding increase in water usage by farmers. Moreover, not all farms have the necessary infrastructure and technology to efficiently use water, resulting in significant waste.\n",
      "\n",
      "To address this issue, local governments can invest in new technologies that enable the reuse of water from soil, or provide more funding for agricultural research and development. Additionally, international cooperation is crucial in addressing the global impact of climate change, which is exacerbating the water crisis. Reducing greenhouse gas emissions, avoiding deforestation, and increasing the use of renewable energy can help mitigate the effects of climate change on water resources.\n",
      "\n",
      "Education and awareness are also critical in promoting water conservation. Teaching children and students about the importance of water conservation can help them develop habits that reduce their water usage in everyday life. By working together, governments, individuals, and communities can find solutions to address the global water crisis and ensure that this essential resource is available for future generations.\n"
     ]
    }
   ],
   "source": [
    "print(piperesult)"
   ]
  },
  {
   "cell_type": "code",
   "execution_count": 28,
   "id": "b8406302-bac3-47aa-9f0e-d7adc5b5b23e",
   "metadata": {},
   "outputs": [],
   "source": [
    "new_essay = piperesult.split('-----------------------')[-1]"
   ]
  },
  {
   "cell_type": "code",
   "execution_count": 29,
   "id": "da2d5d25-529d-432a-85ac-1a6ef6ea9b11",
   "metadata": {},
   "outputs": [
    {
     "name": "stdout",
     "output_type": "stream",
     "text": [
      "\n",
      "Fresh water is a limited resource that has always been a concern in many parts of the world. The increasing global demand for this essential resource has made it a pressing global issue. In this essay, we will explore the causes of the rising demand and discuss potential measures that governments and individuals can take to address this problem.\n",
      "\n",
      "One of the primary causes of the increased demand for fresh water is overpopulation. As the global population grows, so does the need for water, leading to a significant strain on existing resources. In response, some governments, such as China, have implemented policies to regulate population growth, in an effort to manage the demand for water. However, this approach raises concerns about human rights and the impact on economic development.\n",
      "\n",
      "Another significant factor contributing to the rising demand for fresh water is the increasing use of water for agriculture. As the global population grows, so does the demand for food, leading to a corresponding increase in water usage by farmers. Moreover, not all farms have the necessary infrastructure and technology to efficiently use water, resulting in significant waste.\n",
      "\n",
      "To address this issue, local governments can invest in new technologies that enable the reuse of water from soil, or provide more funding for agricultural research and development. Additionally, international cooperation is crucial in addressing the global impact of climate change, which is exacerbating the water crisis. Reducing greenhouse gas emissions, avoiding deforestation, and increasing the use of renewable energy can help mitigate the effects of climate change on water resources.\n",
      "\n",
      "Education and awareness are also critical in promoting water conservation. Teaching children and students about the importance of water conservation can help them develop habits that reduce their water usage in everyday life. By working together, governments, individuals, and communities can find solutions to address the global water crisis and ensure that this essential resource is available for future generations.\n"
     ]
    }
   ],
   "source": [
    "print(new_essay)"
   ]
  },
  {
   "cell_type": "code",
   "execution_count": 30,
   "id": "012ece42-2ec1-4c64-b090-9b02a755ee95",
   "metadata": {},
   "outputs": [
    {
     "data": {
      "text/plain": [
       "tensor([[6.3622]], grad_fn=<AddmmBackward0>)"
      ]
     },
     "execution_count": 30,
     "metadata": {},
     "output_type": "execute_result"
    }
   ],
   "source": [
    "es.score(task, new_essay)"
   ]
  },
  {
   "cell_type": "code",
   "execution_count": null,
   "id": "74d121a5-e5db-45a5-8b0f-1709ada1d61b",
   "metadata": {},
   "outputs": [],
   "source": []
  }
 ],
 "metadata": {
  "kernelspec": {
   "display_name": "gpu_server_env",
   "language": "python",
   "name": "gpu_server_env"
  },
  "language_info": {
   "codemirror_mode": {
    "name": "ipython",
    "version": 3
   },
   "file_extension": ".py",
   "mimetype": "text/x-python",
   "name": "python",
   "nbconvert_exporter": "python",
   "pygments_lexer": "ipython3",
   "version": "3.13.0"
  }
 },
 "nbformat": 4,
 "nbformat_minor": 5
}
